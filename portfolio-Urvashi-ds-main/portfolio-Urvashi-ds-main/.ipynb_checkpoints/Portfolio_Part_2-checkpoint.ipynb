{
 "cells": [
  {
   "cell_type": "markdown",
   "id": "e3c0f482",
   "metadata": {},
   "source": [
    "## Analysis of Epinions Dataset Part 2"
   ]
  },
  {
   "cell_type": "markdown",
   "id": "1ce5d74c",
   "metadata": {},
   "source": [
    "The goal of the second analysis task is to train linear regression models to predict users' ratings towards items. This involves a standard Data Science workflow: exploring data, building models, making predictions, and evaluating results. In this task, we will explore the impacts of feature selections and different sizes of training/testing data on the model performance. We will use another cleaned Epinions sub-dataset that is different from the one in Portfolio 1. "
   ]
  },
  {
   "cell_type": "code",
   "execution_count": 1,
   "id": "982fc442",
   "metadata": {},
   "outputs": [],
   "source": [
    "# your code and solution\n",
    "import pandas as pd\n",
    "import numpy as np\n",
    "from sklearn.model_selection import train_test_split\n",
    "from sklearn import linear_model\n",
    "from sklearn.metrics import r2_score, mean_squared_error\n",
    "from sklearn.preprocessing import OneHotEncoder,OrdinalEncoder\n",
    "\n",
    "import seaborn as sns\n",
    "import matplotlib.pylab as plt\n",
    "%matplotlib inline"
   ]
  },
  {
   "cell_type": "markdown",
   "id": "71f9691d",
   "metadata": {},
   "source": [
    "### Import Cleaned Epinions Dataset\n",
    "The csv file named 'Epinions_cleaned_data_portfolio_2.csv'is provided. Please import the csv file (i.e., 'Epinions_cleaned_data_portfolio_2') and print out its total length."
   ]
  },
  {
   "cell_type": "code",
   "execution_count": 2,
   "id": "a3ea4414",
   "metadata": {},
   "outputs": [],
   "source": [
    "# reading csv file\n",
    "file = 'Epinions_cleaned_data_portfolio_2.csv'\n",
    "read_file = pd.read_csv(file)"
   ]
  },
  {
   "cell_type": "code",
   "execution_count": 3,
   "id": "35b329e8",
   "metadata": {},
   "outputs": [
    {
     "data": {
      "text/plain": [
       "(2899, 8)"
      ]
     },
     "execution_count": 3,
     "metadata": {},
     "output_type": "execute_result"
    }
   ],
   "source": [
    "# length of the csv file\n",
    "read_file.shape"
   ]
  },
  {
   "cell_type": "markdown",
   "id": "b6bff43e",
   "metadata": {},
   "source": [
    "### Explore the Dataset\n",
    "\n",
    "* Use the methods, i.e., `head()` and `info()`, to have a rough picture about the data, e.g., how many columns, and the data types of each column. \n",
    "* As our goal is to predict ratings given other columns, please get the correlations between helpfulness/gender/category/review and rating by using the `corr()` method.\n",
    "* To get the correlations between different features, you may need to first convert the categorical features (i.e., gender, category and review) into numerial values. For doing this, you may need to import `OrdinalEncoder` from `sklearn.preprocessing` (refer to the useful exmaples [here](https://pbpython.com/categorical-encoding.html))\n",
    "* Please provide ___necessary explanations/analysis___ on the correlations, and figure out which are the ___most___ and ___least___ corrleated features regarding rating (positive or negative). Try to ___discuss___ how the correlation will affect the final prediction results, if we use these features to train a regression model for rating prediction. In what follows, we will conduct experiments to verify your hypothesis."
   ]
  },
  {
   "cell_type": "code",
   "execution_count": 4,
   "id": "e1d4fb1e",
   "metadata": {},
   "outputs": [
    {
     "data": {
      "text/html": [
       "<div>\n",
       "<style scoped>\n",
       "    .dataframe tbody tr th:only-of-type {\n",
       "        vertical-align: middle;\n",
       "    }\n",
       "\n",
       "    .dataframe tbody tr th {\n",
       "        vertical-align: top;\n",
       "    }\n",
       "\n",
       "    .dataframe thead th {\n",
       "        text-align: right;\n",
       "    }\n",
       "</style>\n",
       "<table border=\"1\" class=\"dataframe\">\n",
       "  <thead>\n",
       "    <tr style=\"text-align: right;\">\n",
       "      <th></th>\n",
       "      <th>userId</th>\n",
       "      <th>timestamp</th>\n",
       "      <th>review</th>\n",
       "      <th>item</th>\n",
       "      <th>rating</th>\n",
       "      <th>helpfulness</th>\n",
       "      <th>gender</th>\n",
       "      <th>category</th>\n",
       "    </tr>\n",
       "  </thead>\n",
       "  <tbody>\n",
       "    <tr>\n",
       "      <th>0</th>\n",
       "      <td>4259</td>\n",
       "      <td>11900</td>\n",
       "      <td>Finally, Something for (Relatively) Nothing</td>\n",
       "      <td>MyPoints.com</td>\n",
       "      <td>4</td>\n",
       "      <td>4</td>\n",
       "      <td>F</td>\n",
       "      <td>Online Stores &amp; Services</td>\n",
       "    </tr>\n",
       "    <tr>\n",
       "      <th>1</th>\n",
       "      <td>4259</td>\n",
       "      <td>12000</td>\n",
       "      <td>Shocking!</td>\n",
       "      <td>Sixth Sense</td>\n",
       "      <td>5</td>\n",
       "      <td>4</td>\n",
       "      <td>F</td>\n",
       "      <td>Movies</td>\n",
       "    </tr>\n",
       "    <tr>\n",
       "      <th>2</th>\n",
       "      <td>4259</td>\n",
       "      <td>12000</td>\n",
       "      <td>Simply Shaggadelic!</td>\n",
       "      <td>Austin Powers: The Spy Who Shagged Me</td>\n",
       "      <td>5</td>\n",
       "      <td>4</td>\n",
       "      <td>F</td>\n",
       "      <td>Movies</td>\n",
       "    </tr>\n",
       "    <tr>\n",
       "      <th>3</th>\n",
       "      <td>4259</td>\n",
       "      <td>12000</td>\n",
       "      <td>Better Than The First!</td>\n",
       "      <td>Toy Story 2</td>\n",
       "      <td>5</td>\n",
       "      <td>3</td>\n",
       "      <td>F</td>\n",
       "      <td>Movies</td>\n",
       "    </tr>\n",
       "    <tr>\n",
       "      <th>4</th>\n",
       "      <td>4259</td>\n",
       "      <td>12000</td>\n",
       "      <td>Blair Witch made me appreciate this</td>\n",
       "      <td>Star Wars Episode I: The Phantom Menace</td>\n",
       "      <td>2</td>\n",
       "      <td>4</td>\n",
       "      <td>F</td>\n",
       "      <td>Movies</td>\n",
       "    </tr>\n",
       "  </tbody>\n",
       "</table>\n",
       "</div>"
      ],
      "text/plain": [
       "   userId  timestamp                                       review  \\\n",
       "0    4259      11900  Finally, Something for (Relatively) Nothing   \n",
       "1    4259      12000                                    Shocking!   \n",
       "2    4259      12000                          Simply Shaggadelic!   \n",
       "3    4259      12000                       Better Than The First!   \n",
       "4    4259      12000          Blair Witch made me appreciate this   \n",
       "\n",
       "                                      item  rating  helpfulness gender  \\\n",
       "0                             MyPoints.com       4            4      F   \n",
       "1                              Sixth Sense       5            4      F   \n",
       "2    Austin Powers: The Spy Who Shagged Me       5            4      F   \n",
       "3                              Toy Story 2       5            3      F   \n",
       "4  Star Wars Episode I: The Phantom Menace       2            4      F   \n",
       "\n",
       "                   category  \n",
       "0  Online Stores & Services  \n",
       "1                    Movies  \n",
       "2                    Movies  \n",
       "3                    Movies  \n",
       "4                    Movies  "
      ]
     },
     "execution_count": 4,
     "metadata": {},
     "output_type": "execute_result"
    }
   ],
   "source": [
    "# your code and solution\n",
    "read_file.head()"
   ]
  },
  {
   "cell_type": "code",
   "execution_count": 5,
   "id": "adcb1c38",
   "metadata": {},
   "outputs": [
    {
     "name": "stdout",
     "output_type": "stream",
     "text": [
      "<class 'pandas.core.frame.DataFrame'>\n",
      "RangeIndex: 2899 entries, 0 to 2898\n",
      "Data columns (total 8 columns):\n",
      " #   Column       Non-Null Count  Dtype \n",
      "---  ------       --------------  ----- \n",
      " 0   userId       2899 non-null   int64 \n",
      " 1   timestamp    2899 non-null   int64 \n",
      " 2   review       2899 non-null   object\n",
      " 3   item         2899 non-null   object\n",
      " 4   rating       2899 non-null   int64 \n",
      " 5   helpfulness  2899 non-null   int64 \n",
      " 6   gender       2899 non-null   object\n",
      " 7   category     2899 non-null   object\n",
      "dtypes: int64(4), object(4)\n",
      "memory usage: 181.3+ KB\n"
     ]
    }
   ],
   "source": [
    "# data types and no. of columns\n",
    "read_file.info()"
   ]
  },
  {
   "cell_type": "code",
   "execution_count": 6,
   "id": "451fc949",
   "metadata": {},
   "outputs": [],
   "source": [
    "# initiating OrdinalEncoder() object\n",
    "enc = OrdinalEncoder()"
   ]
  },
  {
   "cell_type": "code",
   "execution_count": 7,
   "id": "cd68c1b6",
   "metadata": {},
   "outputs": [
    {
     "name": "stdout",
     "output_type": "stream",
     "text": [
      "OrdinalEncoder()\n"
     ]
    }
   ],
   "source": [
    "print(enc)"
   ]
  },
  {
   "cell_type": "code",
   "execution_count": 8,
   "id": "486dc929",
   "metadata": {},
   "outputs": [
    {
     "data": {
      "text/plain": [
       "array([[0.],\n",
       "       [0.],\n",
       "       [0.],\n",
       "       ...,\n",
       "       [0.],\n",
       "       [0.],\n",
       "       [0.]])"
      ]
     },
     "execution_count": 8,
     "metadata": {},
     "output_type": "execute_result"
    }
   ],
   "source": [
    "# convert 'gender' to numeric form\n",
    "enc.fit_transform(read_file[['gender']])"
   ]
  },
  {
   "cell_type": "code",
   "execution_count": 9,
   "id": "a857b777",
   "metadata": {},
   "outputs": [],
   "source": [
    "# assigning it to main dataset\n",
    "read_file['gender'] = enc.fit_transform(read_file[['gender']])"
   ]
  },
  {
   "cell_type": "code",
   "execution_count": 10,
   "id": "9999311e",
   "metadata": {},
   "outputs": [
    {
     "data": {
      "text/plain": [
       "array([[6.],\n",
       "       [5.],\n",
       "       [5.],\n",
       "       ...,\n",
       "       [5.],\n",
       "       [5.],\n",
       "       [5.]])"
      ]
     },
     "execution_count": 10,
     "metadata": {},
     "output_type": "execute_result"
    }
   ],
   "source": [
    "# convert 'category' to numeric form\n",
    "enc.fit_transform(read_file[['category']])"
   ]
  },
  {
   "cell_type": "code",
   "execution_count": 11,
   "id": "2801e5fc",
   "metadata": {},
   "outputs": [],
   "source": [
    "# assigning it to main dataset\n",
    "read_file['category'] = enc.fit_transform(read_file[['category']])"
   ]
  },
  {
   "cell_type": "code",
   "execution_count": 12,
   "id": "acc4a823",
   "metadata": {},
   "outputs": [
    {
     "data": {
      "text/plain": [
       "array([[ 856.],\n",
       "       [1985.],\n",
       "       [2006.],\n",
       "       ...,\n",
       "       [1546.],\n",
       "       [2431.],\n",
       "       [1519.]])"
      ]
     },
     "execution_count": 12,
     "metadata": {},
     "output_type": "execute_result"
    }
   ],
   "source": [
    "# convert 'category' to numeric form\n",
    "enc.fit_transform(read_file[['review']])"
   ]
  },
  {
   "cell_type": "code",
   "execution_count": 13,
   "id": "d800ab65",
   "metadata": {},
   "outputs": [],
   "source": [
    "# assigning it to main dataset\n",
    "read_file['review'] = enc.fit_transform(read_file[['review']])"
   ]
  },
  {
   "cell_type": "code",
   "execution_count": 14,
   "id": "0e8376ee",
   "metadata": {},
   "outputs": [
    {
     "data": {
      "text/html": [
       "<div>\n",
       "<style scoped>\n",
       "    .dataframe tbody tr th:only-of-type {\n",
       "        vertical-align: middle;\n",
       "    }\n",
       "\n",
       "    .dataframe tbody tr th {\n",
       "        vertical-align: top;\n",
       "    }\n",
       "\n",
       "    .dataframe thead th {\n",
       "        text-align: right;\n",
       "    }\n",
       "</style>\n",
       "<table border=\"1\" class=\"dataframe\">\n",
       "  <thead>\n",
       "    <tr style=\"text-align: right;\">\n",
       "      <th></th>\n",
       "      <th>userId</th>\n",
       "      <th>timestamp</th>\n",
       "      <th>review</th>\n",
       "      <th>item</th>\n",
       "      <th>rating</th>\n",
       "      <th>helpfulness</th>\n",
       "      <th>gender</th>\n",
       "      <th>category</th>\n",
       "    </tr>\n",
       "  </thead>\n",
       "  <tbody>\n",
       "    <tr>\n",
       "      <th>0</th>\n",
       "      <td>4259</td>\n",
       "      <td>11900</td>\n",
       "      <td>856.0</td>\n",
       "      <td>MyPoints.com</td>\n",
       "      <td>4</td>\n",
       "      <td>4</td>\n",
       "      <td>0.0</td>\n",
       "      <td>6.0</td>\n",
       "    </tr>\n",
       "    <tr>\n",
       "      <th>1</th>\n",
       "      <td>4259</td>\n",
       "      <td>12000</td>\n",
       "      <td>1985.0</td>\n",
       "      <td>Sixth Sense</td>\n",
       "      <td>5</td>\n",
       "      <td>4</td>\n",
       "      <td>0.0</td>\n",
       "      <td>5.0</td>\n",
       "    </tr>\n",
       "    <tr>\n",
       "      <th>2</th>\n",
       "      <td>4259</td>\n",
       "      <td>12000</td>\n",
       "      <td>2006.0</td>\n",
       "      <td>Austin Powers: The Spy Who Shagged Me</td>\n",
       "      <td>5</td>\n",
       "      <td>4</td>\n",
       "      <td>0.0</td>\n",
       "      <td>5.0</td>\n",
       "    </tr>\n",
       "    <tr>\n",
       "      <th>3</th>\n",
       "      <td>4259</td>\n",
       "      <td>12000</td>\n",
       "      <td>472.0</td>\n",
       "      <td>Toy Story 2</td>\n",
       "      <td>5</td>\n",
       "      <td>3</td>\n",
       "      <td>0.0</td>\n",
       "      <td>5.0</td>\n",
       "    </tr>\n",
       "    <tr>\n",
       "      <th>4</th>\n",
       "      <td>4259</td>\n",
       "      <td>12000</td>\n",
       "      <td>493.0</td>\n",
       "      <td>Star Wars Episode I: The Phantom Menace</td>\n",
       "      <td>2</td>\n",
       "      <td>4</td>\n",
       "      <td>0.0</td>\n",
       "      <td>5.0</td>\n",
       "    </tr>\n",
       "  </tbody>\n",
       "</table>\n",
       "</div>"
      ],
      "text/plain": [
       "   userId  timestamp  review                                     item  rating  \\\n",
       "0    4259      11900   856.0                             MyPoints.com       4   \n",
       "1    4259      12000  1985.0                              Sixth Sense       5   \n",
       "2    4259      12000  2006.0    Austin Powers: The Spy Who Shagged Me       5   \n",
       "3    4259      12000   472.0                              Toy Story 2       5   \n",
       "4    4259      12000   493.0  Star Wars Episode I: The Phantom Menace       2   \n",
       "\n",
       "   helpfulness  gender  category  \n",
       "0            4     0.0       6.0  \n",
       "1            4     0.0       5.0  \n",
       "2            4     0.0       5.0  \n",
       "3            3     0.0       5.0  \n",
       "4            4     0.0       5.0  "
      ]
     },
     "execution_count": 14,
     "metadata": {},
     "output_type": "execute_result"
    }
   ],
   "source": [
    "read_file.head()"
   ]
  },
  {
   "cell_type": "code",
   "execution_count": 15,
   "id": "85f0d1a5",
   "metadata": {},
   "outputs": [
    {
     "data": {
      "text/plain": [
       "-0.016832209821488576"
      ]
     },
     "execution_count": 15,
     "metadata": {},
     "output_type": "execute_result"
    }
   ],
   "source": [
    "# correlation for helpfulness with ratings\n",
    "read_file['helpfulness'].corr(read_file['rating'])"
   ]
  },
  {
   "cell_type": "code",
   "execution_count": 16,
   "id": "1a93fde9",
   "metadata": {},
   "outputs": [
    {
     "data": {
      "text/plain": [
       "0.018105039011507625"
      ]
     },
     "execution_count": 16,
     "metadata": {},
     "output_type": "execute_result"
    }
   ],
   "source": [
    "# correlation for gender with ratings\n",
    "read_file['gender'].corr(read_file['rating'])"
   ]
  },
  {
   "cell_type": "code",
   "execution_count": 17,
   "id": "3a6ec89a",
   "metadata": {},
   "outputs": [
    {
     "data": {
      "text/plain": [
       "-0.14057638180137588"
      ]
     },
     "execution_count": 17,
     "metadata": {},
     "output_type": "execute_result"
    }
   ],
   "source": [
    "# correlation for category with ratings\n",
    "read_file['category'].corr(read_file['rating'])"
   ]
  },
  {
   "cell_type": "code",
   "execution_count": 18,
   "id": "9681f54f",
   "metadata": {},
   "outputs": [
    {
     "data": {
      "text/plain": [
       "-0.062071079458250904"
      ]
     },
     "execution_count": 18,
     "metadata": {},
     "output_type": "execute_result"
    }
   ],
   "source": [
    "# correlation for review with ratings\n",
    "read_file['review'].corr(read_file['rating'])"
   ]
  },
  {
   "cell_type": "code",
   "execution_count": 19,
   "id": "962f928a",
   "metadata": {},
   "outputs": [],
   "source": [
    "# Correlation explanation:\n",
    "\n",
    "# Correlations is used to describe linear relationship between continuous variables.\n",
    "# Most correlated features are whose correlation values are nearer to 1 and leads to better data predictions.\n",
    "# For our hypothesis, we will use linear regression model for checking the impacts of least and most correlated features.\n",
    "# We will also check our hypothesis taking different proportion of training data.\n",
    "\n",
    "# Most correlated features 1. category-rating(0.140576) and 2. gender-rating(0.018105)\n",
    "# Least correlated features 1. helpfulness-rating(0.016832) and 2. review-ratings(0.062071)"
   ]
  },
  {
   "cell_type": "markdown",
   "id": "76a8a56d",
   "metadata": {},
   "source": [
    "### Split Training and Testing Data\n",
    "* Machine learning models are trained to help make predictions for the future. Normally, we need to randomly split the dataset into training and testing sets, where we use the training set to train the model, and then leverage the well-trained model to make predictions on the testing set. \n",
    "* To further investigate whether the size of the training/testing data affects the model performance, please random split the data into training and testing sets with different sizes:\n",
    "    * Case 1: training data containing 10% of the entire data;\n",
    "    * Case 2: training data containing 90% of the entire data. \n",
    "* Print the shape of training and testing sets in the two cases. "
   ]
  },
  {
   "cell_type": "code",
   "execution_count": 20,
   "id": "f960b371",
   "metadata": {},
   "outputs": [
    {
     "name": "stdout",
     "output_type": "stream",
     "text": [
      "(2609, 8)\n",
      "(290, 8)\n"
     ]
    }
   ],
   "source": [
    "# your code and solution\n",
    "# Case 1:\n",
    "train_case1, test_case1 = train_test_split(read_file, test_size=0.1, random_state=142)\n",
    "print(train_case1.shape)\n",
    "print(test_case1.shape)"
   ]
  },
  {
   "cell_type": "code",
   "execution_count": 21,
   "id": "caeb4f5c",
   "metadata": {},
   "outputs": [
    {
     "name": "stdout",
     "output_type": "stream",
     "text": [
      "(289, 8)\n",
      "(2610, 8)\n"
     ]
    }
   ],
   "source": [
    "# Case 2:\n",
    "train_case2, test_case2 = train_test_split(read_file, test_size=0.9, random_state=142)\n",
    "print(train_case2.shape)\n",
    "print(test_case2.shape)"
   ]
  },
  {
   "cell_type": "markdown",
   "id": "9a864bc7",
   "metadata": {},
   "source": [
    "### Train Linear Regression Models with Feature Selection under Cases 1 & 2\n",
    "* When training a machine learning model for prediction, we may need to select the most important/correlated input features for more accurate results. \n",
    "* To investigate whether feature selection affects the model performance, please select __two most correlated features and two least correlated features__ regarding rating, respectively. \n",
    "* Train __four__ linear regression models by following the conditions:\n",
    "    - (model-a) using the training/testing data in __case 1__ with __two most__ correlated input features\n",
    "    - (model-b) using the training/testing data in __case 1__ with __two least__ correlated input features\n",
    "    - (model-c) using the training/testing data in __case 2__ with __two most__ correlated input features\n",
    "    - (model-d) using the training/testing data in __case 2__ with __two least__ correlated input features\n",
    "* By doing this, we can verify the impacts of the size of traing/testing data on the model performance via comparing model-a and model-c (or model-b and model-d); meanwhile the impacts of feature selection can be validated via comparing model-a and model-b (or model-c and model-d).    "
   ]
  },
  {
   "cell_type": "code",
   "execution_count": 22,
   "id": "f4656a2e",
   "metadata": {},
   "outputs": [
    {
     "data": {
      "text/plain": [
       "LinearRegression()"
      ]
     },
     "execution_count": 22,
     "metadata": {},
     "output_type": "execute_result"
    }
   ],
   "source": [
    "# model-a, case 1:\n",
    "reg = linear_model.LinearRegression()\n",
    "\n",
    "X_train_a = train_case1[['category','gender']]\n",
    "y_train_a = train_case1['rating']\n",
    "\n",
    "X_test_a = test_case1[['category','gender']]\n",
    "y_test_a = test_case1['rating']\n",
    "\n",
    "reg.fit(X_train_a, y_train_a)"
   ]
  },
  {
   "cell_type": "code",
   "execution_count": 23,
   "id": "c7b5d4d0",
   "metadata": {},
   "outputs": [
    {
     "data": {
      "text/plain": [
       "LinearRegression()"
      ]
     },
     "execution_count": 23,
     "metadata": {},
     "output_type": "execute_result"
    }
   ],
   "source": [
    "# model-b, case 1:\n",
    "reg = linear_model.LinearRegression()\n",
    "\n",
    "X_train_b = train_case1[['helpfulness','review']]\n",
    "y_train_b = train_case1['rating']\n",
    "\n",
    "X_test_b = test_case1[['helpfulness','review']]\n",
    "y_test_b = test_case1['rating']\n",
    "\n",
    "reg.fit(X_train_b, y_train_b)"
   ]
  },
  {
   "cell_type": "code",
   "execution_count": 24,
   "id": "a90fef8f",
   "metadata": {},
   "outputs": [
    {
     "data": {
      "text/plain": [
       "LinearRegression()"
      ]
     },
     "execution_count": 24,
     "metadata": {},
     "output_type": "execute_result"
    }
   ],
   "source": [
    "# model-c, case 2:\n",
    "reg = linear_model.LinearRegression()\n",
    "\n",
    "X_train_c = train_case2[['category','gender']]\n",
    "y_train_c = train_case2['rating']\n",
    "\n",
    "X_test_c = test_case2[['category','gender']]\n",
    "y_test_c = test_case2['rating']\n",
    "\n",
    "reg.fit(X_train_b, y_train_b)"
   ]
  },
  {
   "cell_type": "code",
   "execution_count": 25,
   "id": "5d4bfe94",
   "metadata": {},
   "outputs": [
    {
     "data": {
      "text/plain": [
       "LinearRegression()"
      ]
     },
     "execution_count": 25,
     "metadata": {},
     "output_type": "execute_result"
    }
   ],
   "source": [
    "# model-d, case 2:\n",
    "reg = linear_model.LinearRegression()\n",
    "\n",
    "X_train_d = train_case2[['helpfulness','review']]\n",
    "y_train_d = train_case2['rating']\n",
    "\n",
    "X_test_d = test_case2[['helpfulness','review']]\n",
    "y_test_d = test_case2['rating']\n",
    "\n",
    "reg.fit(X_train_d, y_train_d)"
   ]
  },
  {
   "cell_type": "markdown",
   "id": "da1c79a4",
   "metadata": {},
   "source": [
    "### Evaluate Models\n",
    "* Evaluate the performance of the four models with two metrics, including MSE and Root MSE\n",
    "* Print the results of the four models regarding the two metrics"
   ]
  },
  {
   "cell_type": "code",
   "execution_count": 26,
   "id": "c4c08116",
   "metadata": {},
   "outputs": [
    {
     "name": "stdout",
     "output_type": "stream",
     "text": [
      "MSE: 1.808907463515922\n",
      "Root MSE: 1.3449563054300024\n",
      "R Squared: -0.02695575472328815\n"
     ]
    },
    {
     "name": "stderr",
     "output_type": "stream",
     "text": [
      "C:\\Users\\User\\anaconda3\\lib\\site-packages\\sklearn\\base.py:450: UserWarning: X does not have valid feature names, but LinearRegression was fitted with feature names\n",
      "  warnings.warn(\n"
     ]
    }
   ],
   "source": [
    "# your code and solution\n",
    "# training prediction for model-a\n",
    "predicted = reg.predict(X_test_a.values)\n",
    "mse_a = ((np.array(y_test_a)-predicted)**2).sum()/len(y_test_a)\n",
    "r2_a = r2_score(y_test_a, predicted)\n",
    "rt_a = np.sqrt(mse_a)\n",
    "print(\"MSE:\", mse_a)\n",
    "print(\"Root MSE:\", rt_a)\n",
    "print(\"R Squared:\", r2_a)"
   ]
  },
  {
   "cell_type": "code",
   "execution_count": 27,
   "id": "9e53b641",
   "metadata": {},
   "outputs": [
    {
     "name": "stdout",
     "output_type": "stream",
     "text": [
      "MSE: 1.755482144891498\n",
      "Root MSE: 1.3249460913152271\n",
      "R Squared: 0.0033749501446308505\n"
     ]
    }
   ],
   "source": [
    "# training prediction for model-b\n",
    "predicted = reg.predict(X_test_b)\n",
    "mse_b = ((np.array(y_test_b)-predicted)**2).sum()/len(y_test_b)\n",
    "r2_b = r2_score(y_test_b, predicted)\n",
    "rt_b = np.sqrt(mse_b)\n",
    "print(\"MSE:\", mse_b)\n",
    "print(\"Root MSE:\", rt_b)\n",
    "print(\"R Squared:\", r2_b)"
   ]
  },
  {
   "cell_type": "code",
   "execution_count": 28,
   "id": "823c286c",
   "metadata": {},
   "outputs": [
    {
     "name": "stdout",
     "output_type": "stream",
     "text": [
      "MSE: 1.919069305813825\n",
      "Root MSE: 1.385304770010493\n",
      "R Squared: -0.06614961434101407\n"
     ]
    },
    {
     "name": "stderr",
     "output_type": "stream",
     "text": [
      "C:\\Users\\User\\anaconda3\\lib\\site-packages\\sklearn\\base.py:450: UserWarning: X does not have valid feature names, but LinearRegression was fitted with feature names\n",
      "  warnings.warn(\n"
     ]
    }
   ],
   "source": [
    "# training prediction for model-c\n",
    "predicted = reg.predict(X_test_c.values)\n",
    "mse_c = ((np.array(y_test_c)-predicted)**2).sum()/len(y_test_c)\n",
    "r2_c = r2_score(y_test_c, predicted)\n",
    "rt_c = np.sqrt(mse_c)\n",
    "print(\"MSE:\", mse_c)\n",
    "print(\"Root MSE:\", rt_c)\n",
    "print(\"R Squared:\", r2_c)"
   ]
  },
  {
   "cell_type": "code",
   "execution_count": 29,
   "id": "79b5f2fa",
   "metadata": {},
   "outputs": [
    {
     "name": "stdout",
     "output_type": "stream",
     "text": [
      "MSE: 1.806031141979142\n",
      "Root MSE: 1.3438865807720315\n",
      "R Squared: -0.0033506344328566584\n"
     ]
    }
   ],
   "source": [
    "# training prediction for model-d\n",
    "predicted = reg.predict(X_test_d)\n",
    "mse_d = ((np.array(y_test_d)-predicted)**2).sum()/len(y_test_d)\n",
    "r2_d = r2_score(y_test_d, predicted)\n",
    "rt_d = np.sqrt(mse_d)\n",
    "print(\"MSE:\", mse_d)\n",
    "print(\"Root MSE:\", rt_d)\n",
    "print(\"R Squared:\", r2_d)"
   ]
  },
  {
   "cell_type": "markdown",
   "id": "b7fd1509",
   "metadata": {},
   "source": [
    "### Visualize, Compare and Analyze the Results\n",
    "* Visulize the results, and perform ___insightful analysis___ on the obtained results. For better visualization, you may need to carefully set the scale for the y-axis.\n",
    "* Normally, the model trained with most correlated features and more training data will get better results. Do you obtain the similar observations? If not, please ___explain the possible reasons___."
   ]
  },
  {
   "cell_type": "code",
   "execution_count": 30,
   "id": "019c97df",
   "metadata": {},
   "outputs": [],
   "source": [
    "# Using bar-plot:\n",
    "\n",
    "# We used barplot here as we want to compare different matric values here.\n",
    "# From bar graph we can see the higher and lower values easily."
   ]
  },
  {
   "cell_type": "code",
   "execution_count": 31,
   "id": "89a9dad4",
   "metadata": {},
   "outputs": [
    {
     "data": {
      "image/png": "[encoded data removed]",
      "text/plain": [
       "<Figure size 432x288 with 1 Axes>"
      ]
     },
     "metadata": {
      "needs_background": "light"
     },
     "output_type": "display_data"
    }
   ],
   "source": [
    "# Impact of size of training/testing data on the model performance:\n",
    "ax = sns.barplot(x=[\"model_a\",\"model_b\",\"model_c\",\"model_d\"], y=[mse_a,mse_b,mse_c,mse_d], data=read_file)"
   ]
  },
  {
   "cell_type": "code",
   "execution_count": 32,
   "id": "0e975bba",
   "metadata": {},
   "outputs": [],
   "source": [
    "# Explanation of the above graph:\n",
    "\n",
    "# Comparison of model-a and model-c which has most correlated features,\n",
    "# in which model-a having more training data compared to model-c has minimum mse value.\n",
    "# Similarly, model-b and model-d having least correlated features,\n",
    "# in which model-b having more training data compared to model-d has least mse value.\n",
    "\n",
    "# Nearer the value of mse with 0, the better the result.\n",
    "# Hence, we can say that having more training data and most correlated values will leads model in better prediction."
   ]
  },
  {
   "cell_type": "code",
   "execution_count": 33,
   "id": "fe26f5cc",
   "metadata": {},
   "outputs": [
    {
     "data": {
      "image/png": "[encoded data removed]",
      "text/plain": [
       "<Figure size 432x288 with 1 Axes>"
      ]
     },
     "metadata": {
      "needs_background": "light"
     },
     "output_type": "display_data"
    }
   ],
   "source": [
    "# Impacts of feature selection by comparing model-a and model-b; model-c and model-d\n",
    "ax = sns.barplot(x=[\"model_a\",\"model_b\",\"model_c\",\"model_d\"], y=[rt_a,rt_b,rt_c,rt_d], data=read_file)"
   ]
  },
  {
   "cell_type": "code",
   "execution_count": 34,
   "id": "5194c962",
   "metadata": {},
   "outputs": [],
   "source": [
    "# Explanation of the above graph:\n",
    "\n",
    "# As nearer rmse value to 1, the better the result.\n",
    "# Comparing model-a and model-b, rmse of model-a is more i.e. impact of features of model-a is more compared to that of model-b\n",
    "# in predicting data of case 1\n",
    "# Similarly, comparing model-c and model-d, rmse of model-c is more thus impact of model-c features is more compare to model-d\n",
    "# in data predictions of case 2."
   ]
  },
  {
   "cell_type": "code",
   "execution_count": null,
   "id": "5a746df9",
   "metadata": {},
   "outputs": [],
   "source": []
  }
 ],
 "metadata": {
  "kernelspec": {
   "display_name": "Python 3 (ipykernel)",
   "language": "python",
   "name": "python3"
  },
  "language_info": {
   "codemirror_mode": {
    "name": "ipython",
    "version": 3
   },
   "file_extension": ".py",
   "mimetype": "text/x-python",
   "name": "python",
   "nbconvert_exporter": "python",
   "pygments_lexer": "ipython3",
   "version": "3.9.12"
  }
 },
 "nbformat": 4,
 "nbformat_minor": 5
}
