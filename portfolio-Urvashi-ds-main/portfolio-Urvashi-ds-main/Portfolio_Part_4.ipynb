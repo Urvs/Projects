{
 "cells": [
  {
   "cell_type": "markdown",
   "id": "39cfd814",
   "metadata": {},
   "source": [
    "## Purpose"
   ]
  },
  {
   "cell_type": "markdown",
   "id": "b9a433a7",
   "metadata": {},
   "source": [
    "The data analysis and prediction here is about an Airline Passenger Satisfaction. We will go through several aspects like Class, Delays, Time convenience, On-board services etc. We are using here classification and regrassion method for our calculations. The calculations are for how much the experience is satisfiable."
   ]
  },
  {
   "cell_type": "markdown",
   "id": "a8d5de44",
   "metadata": {},
   "source": [
    " ** The dataset is taken from kaggle"
   ]
  },
  {
   "cell_type": "code",
   "execution_count": 1,
   "id": "eb63c80e",
   "metadata": {},
   "outputs": [],
   "source": [
    "# Import essential libraries\n",
    "import pandas as pd\n",
    "import numpy as np\n",
    "\n",
    "# for regression and classification models\n",
    "from sklearn import linear_model\n",
    "from sklearn.linear_model import LinearRegression, LogisticRegression\n",
    "from sklearn.feature_selection import RFE\n",
    "from sklearn.neighbors import KNeighborsClassifier\n",
    "from sklearn.naive_bayes import GaussianNB\n",
    "from sklearn.svm import SVC\n",
    "\n",
    "# for predictions and other calculations\n",
    "from sklearn.metrics import accuracy_score, confusion_matrix, r2_score\n",
    "from sklearn.metrics import classification_report, roc_auc_score, roc_curve\n",
    "from sklearn.datasets import make_classification\n",
    "from sklearn.model_selection import train_test_split, cross_val_score, GridSearchCV\n",
    "from sklearn.preprocessing import LabelEncoder, PolynomialFeatures\n",
    "\n",
    "# for graph plotting\n",
    "import seaborn as sns\n",
    "import matplotlib.pyplot as plt\n",
    "\n",
    "import warnings\n",
    "warnings.filterwarnings('ignore')"
   ]
  },
  {
   "cell_type": "markdown",
   "id": "117f01fa",
   "metadata": {},
   "source": [
    "## Data exploration"
   ]
  },
  {
   "cell_type": "code",
   "execution_count": 2,
   "id": "f44536ea",
   "metadata": {},
   "outputs": [
    {
     "data": {
      "text/html": [
       "<div>\n",
       "<style scoped>\n",
       "    .dataframe tbody tr th:only-of-type {\n",
       "        vertical-align: middle;\n",
       "    }\n",
       "\n",
       "    .dataframe tbody tr th {\n",
       "        vertical-align: top;\n",
       "    }\n",
       "\n",
       "    .dataframe thead th {\n",
       "        text-align: right;\n",
       "    }\n",
       "</style>\n",
       "<table border=\"1\" class=\"dataframe\">\n",
       "  <thead>\n",
       "    <tr style=\"text-align: right;\">\n",
       "      <th></th>\n",
       "      <th>ID</th>\n",
       "      <th>Gender</th>\n",
       "      <th>Age</th>\n",
       "      <th>Customer Type</th>\n",
       "      <th>Type of Travel</th>\n",
       "      <th>Class</th>\n",
       "      <th>Flight Distance</th>\n",
       "      <th>Departure Delay</th>\n",
       "      <th>Arrival Delay</th>\n",
       "      <th>Departure and Arrival Time Convenience</th>\n",
       "      <th>...</th>\n",
       "      <th>On-board Service</th>\n",
       "      <th>Seat Comfort</th>\n",
       "      <th>Leg Room Service</th>\n",
       "      <th>Cleanliness</th>\n",
       "      <th>Food and Drink</th>\n",
       "      <th>In-flight Service</th>\n",
       "      <th>In-flight Wifi Service</th>\n",
       "      <th>In-flight Entertainment</th>\n",
       "      <th>Baggage Handling</th>\n",
       "      <th>Satisfaction</th>\n",
       "    </tr>\n",
       "  </thead>\n",
       "  <tbody>\n",
       "    <tr>\n",
       "      <th>0</th>\n",
       "      <td>1</td>\n",
       "      <td>Female</td>\n",
       "      <td>28</td>\n",
       "      <td>First-time</td>\n",
       "      <td>Business</td>\n",
       "      <td>Business</td>\n",
       "      <td>821</td>\n",
       "      <td>0</td>\n",
       "      <td>5.0</td>\n",
       "      <td>1</td>\n",
       "      <td>...</td>\n",
       "      <td>2</td>\n",
       "      <td>2</td>\n",
       "      <td>5</td>\n",
       "      <td>2</td>\n",
       "      <td>2</td>\n",
       "      <td>4</td>\n",
       "      <td>1</td>\n",
       "      <td>2</td>\n",
       "      <td>3</td>\n",
       "      <td>Neutral or Dissatisfied</td>\n",
       "    </tr>\n",
       "    <tr>\n",
       "      <th>1</th>\n",
       "      <td>2</td>\n",
       "      <td>Female</td>\n",
       "      <td>27</td>\n",
       "      <td>First-time</td>\n",
       "      <td>Business</td>\n",
       "      <td>Business</td>\n",
       "      <td>421</td>\n",
       "      <td>20</td>\n",
       "      <td>21.0</td>\n",
       "      <td>2</td>\n",
       "      <td>...</td>\n",
       "      <td>2</td>\n",
       "      <td>2</td>\n",
       "      <td>5</td>\n",
       "      <td>1</td>\n",
       "      <td>1</td>\n",
       "      <td>3</td>\n",
       "      <td>1</td>\n",
       "      <td>1</td>\n",
       "      <td>4</td>\n",
       "      <td>Neutral or Dissatisfied</td>\n",
       "    </tr>\n",
       "    <tr>\n",
       "      <th>2</th>\n",
       "      <td>3</td>\n",
       "      <td>Male</td>\n",
       "      <td>24</td>\n",
       "      <td>First-time</td>\n",
       "      <td>Business</td>\n",
       "      <td>Economy</td>\n",
       "      <td>453</td>\n",
       "      <td>16</td>\n",
       "      <td>30.0</td>\n",
       "      <td>2</td>\n",
       "      <td>...</td>\n",
       "      <td>2</td>\n",
       "      <td>5</td>\n",
       "      <td>4</td>\n",
       "      <td>5</td>\n",
       "      <td>5</td>\n",
       "      <td>4</td>\n",
       "      <td>2</td>\n",
       "      <td>5</td>\n",
       "      <td>4</td>\n",
       "      <td>Neutral or Dissatisfied</td>\n",
       "    </tr>\n",
       "    <tr>\n",
       "      <th>3</th>\n",
       "      <td>4</td>\n",
       "      <td>Male</td>\n",
       "      <td>9</td>\n",
       "      <td>Returning</td>\n",
       "      <td>Personal</td>\n",
       "      <td>Business</td>\n",
       "      <td>853</td>\n",
       "      <td>68</td>\n",
       "      <td>76.0</td>\n",
       "      <td>5</td>\n",
       "      <td>...</td>\n",
       "      <td>4</td>\n",
       "      <td>5</td>\n",
       "      <td>3</td>\n",
       "      <td>5</td>\n",
       "      <td>5</td>\n",
       "      <td>5</td>\n",
       "      <td>1</td>\n",
       "      <td>5</td>\n",
       "      <td>4</td>\n",
       "      <td>Neutral or Dissatisfied</td>\n",
       "    </tr>\n",
       "    <tr>\n",
       "      <th>4</th>\n",
       "      <td>5</td>\n",
       "      <td>Male</td>\n",
       "      <td>52</td>\n",
       "      <td>Returning</td>\n",
       "      <td>Personal</td>\n",
       "      <td>Economy</td>\n",
       "      <td>853</td>\n",
       "      <td>0</td>\n",
       "      <td>0.0</td>\n",
       "      <td>4</td>\n",
       "      <td>...</td>\n",
       "      <td>3</td>\n",
       "      <td>2</td>\n",
       "      <td>3</td>\n",
       "      <td>2</td>\n",
       "      <td>2</td>\n",
       "      <td>5</td>\n",
       "      <td>2</td>\n",
       "      <td>2</td>\n",
       "      <td>5</td>\n",
       "      <td>Neutral or Dissatisfied</td>\n",
       "    </tr>\n",
       "  </tbody>\n",
       "</table>\n",
       "<p>5 rows × 24 columns</p>\n",
       "</div>"
      ],
      "text/plain": [
       "   ID  Gender  Age Customer Type Type of Travel     Class  Flight Distance  \\\n",
       "0   1  Female   28    First-time       Business  Business              821   \n",
       "1   2  Female   27    First-time       Business  Business              421   \n",
       "2   3    Male   24    First-time       Business   Economy              453   \n",
       "3   4    Male    9     Returning       Personal  Business              853   \n",
       "4   5    Male   52     Returning       Personal   Economy              853   \n",
       "\n",
       "   Departure Delay  Arrival Delay  Departure and Arrival Time Convenience  \\\n",
       "0                0            5.0                                       1   \n",
       "1               20           21.0                                       2   \n",
       "2               16           30.0                                       2   \n",
       "3               68           76.0                                       5   \n",
       "4                0            0.0                                       4   \n",
       "\n",
       "   ...  On-board Service  Seat Comfort  Leg Room Service  Cleanliness  \\\n",
       "0  ...                 2             2                 5            2   \n",
       "1  ...                 2             2                 5            1   \n",
       "2  ...                 2             5                 4            5   \n",
       "3  ...                 4             5                 3            5   \n",
       "4  ...                 3             2                 3            2   \n",
       "\n",
       "   Food and Drink  In-flight Service  In-flight Wifi Service  \\\n",
       "0               2                  4                       1   \n",
       "1               1                  3                       1   \n",
       "2               5                  4                       2   \n",
       "3               5                  5                       1   \n",
       "4               2                  5                       2   \n",
       "\n",
       "   In-flight Entertainment  Baggage Handling             Satisfaction  \n",
       "0                        2                 3  Neutral or Dissatisfied  \n",
       "1                        1                 4  Neutral or Dissatisfied  \n",
       "2                        5                 4  Neutral or Dissatisfied  \n",
       "3                        5                 4  Neutral or Dissatisfied  \n",
       "4                        2                 5  Neutral or Dissatisfied  \n",
       "\n",
       "[5 rows x 24 columns]"
      ]
     },
     "execution_count": 2,
     "metadata": {},
     "output_type": "execute_result"
    }
   ],
   "source": [
    "data1=pd.read_csv('airline_passenger_satisfaction.csv') # read csv file\n",
    "data1.head(5) # display csv file data"
   ]
  },
  {
   "cell_type": "code",
   "execution_count": 3,
   "id": "180cb65f",
   "metadata": {},
   "outputs": [
    {
     "name": "stdout",
     "output_type": "stream",
     "text": [
      "<class 'pandas.core.frame.DataFrame'>\n",
      "RangeIndex: 934 entries, 0 to 933\n",
      "Data columns (total 24 columns):\n",
      " #   Column                                  Non-Null Count  Dtype  \n",
      "---  ------                                  --------------  -----  \n",
      " 0   ID                                      934 non-null    int64  \n",
      " 1   Gender                                  934 non-null    object \n",
      " 2   Age                                     934 non-null    int64  \n",
      " 3   Customer Type                           934 non-null    object \n",
      " 4   Type of Travel                          934 non-null    object \n",
      " 5   Class                                   934 non-null    object \n",
      " 6   Flight Distance                         934 non-null    int64  \n",
      " 7   Departure Delay                         934 non-null    int64  \n",
      " 8   Arrival Delay                           932 non-null    float64\n",
      " 9   Departure and Arrival Time Convenience  934 non-null    int64  \n",
      " 10  Ease of Online Booking                  934 non-null    int64  \n",
      " 11  Check-in Service                        934 non-null    int64  \n",
      " 12  Online Boarding                         934 non-null    int64  \n",
      " 13  Gate Location                           934 non-null    int64  \n",
      " 14  On-board Service                        934 non-null    int64  \n",
      " 15  Seat Comfort                            934 non-null    int64  \n",
      " 16  Leg Room Service                        934 non-null    int64  \n",
      " 17  Cleanliness                             934 non-null    int64  \n",
      " 18  Food and Drink                          934 non-null    int64  \n",
      " 19  In-flight Service                       934 non-null    int64  \n",
      " 20  In-flight Wifi Service                  934 non-null    int64  \n",
      " 21  In-flight Entertainment                 934 non-null    int64  \n",
      " 22  Baggage Handling                        934 non-null    int64  \n",
      " 23  Satisfaction                            934 non-null    object \n",
      "dtypes: float64(1), int64(18), object(5)\n",
      "memory usage: 175.2+ KB\n"
     ]
    }
   ],
   "source": [
    "data1.info() # display dtypes of columns"
   ]
  },
  {
   "cell_type": "code",
   "execution_count": 4,
   "id": "9fadfa8e",
   "metadata": {},
   "outputs": [
    {
     "data": {
      "text/plain": [
       "(934, 24)"
      ]
     },
     "execution_count": 4,
     "metadata": {},
     "output_type": "execute_result"
    }
   ],
   "source": [
    "data1.shape #size of the dataset"
   ]
  },
  {
   "cell_type": "code",
   "execution_count": 5,
   "id": "5df90b61",
   "metadata": {},
   "outputs": [],
   "source": [
    "data = data1.loc[:, data1.columns != \"ID\"] #removing ID from the dataset as we do not want it in any evaluation"
   ]
  },
  {
   "cell_type": "code",
   "execution_count": 6,
   "id": "34540809",
   "metadata": {},
   "outputs": [
    {
     "data": {
      "text/html": [
       "<div>\n",
       "<style scoped>\n",
       "    .dataframe tbody tr th:only-of-type {\n",
       "        vertical-align: middle;\n",
       "    }\n",
       "\n",
       "    .dataframe tbody tr th {\n",
       "        vertical-align: top;\n",
       "    }\n",
       "\n",
       "    .dataframe thead th {\n",
       "        text-align: right;\n",
       "    }\n",
       "</style>\n",
       "<table border=\"1\" class=\"dataframe\">\n",
       "  <thead>\n",
       "    <tr style=\"text-align: right;\">\n",
       "      <th></th>\n",
       "      <th>Age</th>\n",
       "      <th>Flight Distance</th>\n",
       "      <th>Departure Delay</th>\n",
       "      <th>Arrival Delay</th>\n",
       "      <th>Departure and Arrival Time Convenience</th>\n",
       "      <th>Ease of Online Booking</th>\n",
       "      <th>Check-in Service</th>\n",
       "      <th>Online Boarding</th>\n",
       "      <th>Gate Location</th>\n",
       "      <th>On-board Service</th>\n",
       "      <th>Seat Comfort</th>\n",
       "      <th>Leg Room Service</th>\n",
       "      <th>Cleanliness</th>\n",
       "      <th>Food and Drink</th>\n",
       "      <th>In-flight Service</th>\n",
       "      <th>In-flight Wifi Service</th>\n",
       "      <th>In-flight Entertainment</th>\n",
       "      <th>Baggage Handling</th>\n",
       "    </tr>\n",
       "  </thead>\n",
       "  <tbody>\n",
       "    <tr>\n",
       "      <th>Age</th>\n",
       "      <td>1.000000</td>\n",
       "      <td>0.216008</td>\n",
       "      <td>-0.029652</td>\n",
       "      <td>-0.040105</td>\n",
       "      <td>0.031417</td>\n",
       "      <td>0.004101</td>\n",
       "      <td>0.004338</td>\n",
       "      <td>0.308428</td>\n",
       "      <td>0.044775</td>\n",
       "      <td>0.027707</td>\n",
       "      <td>0.209842</td>\n",
       "      <td>0.044784</td>\n",
       "      <td>0.042418</td>\n",
       "      <td>0.033805</td>\n",
       "      <td>-0.148705</td>\n",
       "      <td>-0.039079</td>\n",
       "      <td>0.062830</td>\n",
       "      <td>-0.131806</td>\n",
       "    </tr>\n",
       "    <tr>\n",
       "      <th>Flight Distance</th>\n",
       "      <td>0.216008</td>\n",
       "      <td>1.000000</td>\n",
       "      <td>-0.057768</td>\n",
       "      <td>-0.038931</td>\n",
       "      <td>-0.000375</td>\n",
       "      <td>0.003000</td>\n",
       "      <td>0.086513</td>\n",
       "      <td>0.270290</td>\n",
       "      <td>-0.029484</td>\n",
       "      <td>0.061180</td>\n",
       "      <td>0.188149</td>\n",
       "      <td>0.110413</td>\n",
       "      <td>0.066046</td>\n",
       "      <td>0.030652</td>\n",
       "      <td>-0.043875</td>\n",
       "      <td>-0.058316</td>\n",
       "      <td>0.098776</td>\n",
       "      <td>-0.062051</td>\n",
       "    </tr>\n",
       "    <tr>\n",
       "      <th>Departure Delay</th>\n",
       "      <td>-0.029652</td>\n",
       "      <td>-0.057768</td>\n",
       "      <td>1.000000</td>\n",
       "      <td>0.958426</td>\n",
       "      <td>-0.008682</td>\n",
       "      <td>-0.006995</td>\n",
       "      <td>-0.062246</td>\n",
       "      <td>-0.058503</td>\n",
       "      <td>-0.020778</td>\n",
       "      <td>-0.027059</td>\n",
       "      <td>-0.066791</td>\n",
       "      <td>0.016690</td>\n",
       "      <td>-0.028138</td>\n",
       "      <td>-0.024378</td>\n",
       "      <td>-0.059180</td>\n",
       "      <td>0.033449</td>\n",
       "      <td>0.012692</td>\n",
       "      <td>0.000014</td>\n",
       "    </tr>\n",
       "    <tr>\n",
       "      <th>Arrival Delay</th>\n",
       "      <td>-0.040105</td>\n",
       "      <td>-0.038931</td>\n",
       "      <td>0.958426</td>\n",
       "      <td>1.000000</td>\n",
       "      <td>-0.004838</td>\n",
       "      <td>-0.005526</td>\n",
       "      <td>-0.055716</td>\n",
       "      <td>-0.073451</td>\n",
       "      <td>-0.036250</td>\n",
       "      <td>-0.019774</td>\n",
       "      <td>-0.075650</td>\n",
       "      <td>0.031062</td>\n",
       "      <td>-0.035089</td>\n",
       "      <td>-0.037928</td>\n",
       "      <td>-0.052098</td>\n",
       "      <td>0.031633</td>\n",
       "      <td>0.010738</td>\n",
       "      <td>0.001472</td>\n",
       "    </tr>\n",
       "    <tr>\n",
       "      <th>Departure and Arrival Time Convenience</th>\n",
       "      <td>0.031417</td>\n",
       "      <td>-0.000375</td>\n",
       "      <td>-0.008682</td>\n",
       "      <td>-0.004838</td>\n",
       "      <td>1.000000</td>\n",
       "      <td>0.479198</td>\n",
       "      <td>0.022814</td>\n",
       "      <td>0.069611</td>\n",
       "      <td>0.504231</td>\n",
       "      <td>0.006908</td>\n",
       "      <td>0.052516</td>\n",
       "      <td>0.018260</td>\n",
       "      <td>0.011368</td>\n",
       "      <td>0.031963</td>\n",
       "      <td>0.032906</td>\n",
       "      <td>0.421659</td>\n",
       "      <td>0.025440</td>\n",
       "      <td>-0.013038</td>\n",
       "    </tr>\n",
       "    <tr>\n",
       "      <th>Ease of Online Booking</th>\n",
       "      <td>0.004101</td>\n",
       "      <td>0.003000</td>\n",
       "      <td>-0.006995</td>\n",
       "      <td>-0.005526</td>\n",
       "      <td>0.479198</td>\n",
       "      <td>1.000000</td>\n",
       "      <td>-0.051033</td>\n",
       "      <td>0.224112</td>\n",
       "      <td>0.487505</td>\n",
       "      <td>0.103195</td>\n",
       "      <td>0.003446</td>\n",
       "      <td>0.161333</td>\n",
       "      <td>-0.056613</td>\n",
       "      <td>0.009852</td>\n",
       "      <td>0.102991</td>\n",
       "      <td>0.800636</td>\n",
       "      <td>0.100325</td>\n",
       "      <td>0.118655</td>\n",
       "    </tr>\n",
       "    <tr>\n",
       "      <th>Check-in Service</th>\n",
       "      <td>0.004338</td>\n",
       "      <td>0.086513</td>\n",
       "      <td>-0.062246</td>\n",
       "      <td>-0.055716</td>\n",
       "      <td>0.022814</td>\n",
       "      <td>-0.051033</td>\n",
       "      <td>1.000000</td>\n",
       "      <td>0.279410</td>\n",
       "      <td>-0.101119</td>\n",
       "      <td>0.352676</td>\n",
       "      <td>0.248087</td>\n",
       "      <td>0.304364</td>\n",
       "      <td>0.257819</td>\n",
       "      <td>0.145162</td>\n",
       "      <td>0.325766</td>\n",
       "      <td>0.051365</td>\n",
       "      <td>0.270946</td>\n",
       "      <td>0.335552</td>\n",
       "    </tr>\n",
       "    <tr>\n",
       "      <th>Online Boarding</th>\n",
       "      <td>0.308428</td>\n",
       "      <td>0.270290</td>\n",
       "      <td>-0.058503</td>\n",
       "      <td>-0.073451</td>\n",
       "      <td>0.069611</td>\n",
       "      <td>0.224112</td>\n",
       "      <td>0.279410</td>\n",
       "      <td>1.000000</td>\n",
       "      <td>0.000809</td>\n",
       "      <td>0.268894</td>\n",
       "      <td>0.482028</td>\n",
       "      <td>0.262504</td>\n",
       "      <td>0.339048</td>\n",
       "      <td>0.186269</td>\n",
       "      <td>0.132191</td>\n",
       "      <td>0.236017</td>\n",
       "      <td>0.337029</td>\n",
       "      <td>0.143646</td>\n",
       "    </tr>\n",
       "    <tr>\n",
       "      <th>Gate Location</th>\n",
       "      <td>0.044775</td>\n",
       "      <td>-0.029484</td>\n",
       "      <td>-0.020778</td>\n",
       "      <td>-0.036250</td>\n",
       "      <td>0.504231</td>\n",
       "      <td>0.487505</td>\n",
       "      <td>-0.101119</td>\n",
       "      <td>0.000809</td>\n",
       "      <td>1.000000</td>\n",
       "      <td>-0.063990</td>\n",
       "      <td>0.028807</td>\n",
       "      <td>0.013241</td>\n",
       "      <td>0.019967</td>\n",
       "      <td>0.054027</td>\n",
       "      <td>-0.015827</td>\n",
       "      <td>0.402864</td>\n",
       "      <td>0.008335</td>\n",
       "      <td>-0.019373</td>\n",
       "    </tr>\n",
       "    <tr>\n",
       "      <th>On-board Service</th>\n",
       "      <td>0.027707</td>\n",
       "      <td>0.061180</td>\n",
       "      <td>-0.027059</td>\n",
       "      <td>-0.019774</td>\n",
       "      <td>0.006908</td>\n",
       "      <td>0.103195</td>\n",
       "      <td>0.352676</td>\n",
       "      <td>0.268894</td>\n",
       "      <td>-0.063990</td>\n",
       "      <td>1.000000</td>\n",
       "      <td>0.221193</td>\n",
       "      <td>0.638850</td>\n",
       "      <td>0.200740</td>\n",
       "      <td>0.078392</td>\n",
       "      <td>0.784765</td>\n",
       "      <td>0.238530</td>\n",
       "      <td>0.630501</td>\n",
       "      <td>0.667915</td>\n",
       "    </tr>\n",
       "    <tr>\n",
       "      <th>Seat Comfort</th>\n",
       "      <td>0.209842</td>\n",
       "      <td>0.188149</td>\n",
       "      <td>-0.066791</td>\n",
       "      <td>-0.075650</td>\n",
       "      <td>0.052516</td>\n",
       "      <td>0.003446</td>\n",
       "      <td>0.248087</td>\n",
       "      <td>0.482028</td>\n",
       "      <td>0.028807</td>\n",
       "      <td>0.221193</td>\n",
       "      <td>1.000000</td>\n",
       "      <td>0.263606</td>\n",
       "      <td>0.621747</td>\n",
       "      <td>0.458148</td>\n",
       "      <td>0.168195</td>\n",
       "      <td>0.041879</td>\n",
       "      <td>0.601550</td>\n",
       "      <td>0.207481</td>\n",
       "    </tr>\n",
       "    <tr>\n",
       "      <th>Leg Room Service</th>\n",
       "      <td>0.044784</td>\n",
       "      <td>0.110413</td>\n",
       "      <td>0.016690</td>\n",
       "      <td>0.031062</td>\n",
       "      <td>0.018260</td>\n",
       "      <td>0.161333</td>\n",
       "      <td>0.304364</td>\n",
       "      <td>0.262504</td>\n",
       "      <td>0.013241</td>\n",
       "      <td>0.638850</td>\n",
       "      <td>0.263606</td>\n",
       "      <td>1.000000</td>\n",
       "      <td>0.220739</td>\n",
       "      <td>0.085647</td>\n",
       "      <td>0.622617</td>\n",
       "      <td>0.234292</td>\n",
       "      <td>0.562832</td>\n",
       "      <td>0.581333</td>\n",
       "    </tr>\n",
       "    <tr>\n",
       "      <th>Cleanliness</th>\n",
       "      <td>0.042418</td>\n",
       "      <td>0.066046</td>\n",
       "      <td>-0.028138</td>\n",
       "      <td>-0.035089</td>\n",
       "      <td>0.011368</td>\n",
       "      <td>-0.056613</td>\n",
       "      <td>0.257819</td>\n",
       "      <td>0.339048</td>\n",
       "      <td>0.019967</td>\n",
       "      <td>0.200740</td>\n",
       "      <td>0.621747</td>\n",
       "      <td>0.220739</td>\n",
       "      <td>1.000000</td>\n",
       "      <td>0.458836</td>\n",
       "      <td>0.216085</td>\n",
       "      <td>0.039465</td>\n",
       "      <td>0.614984</td>\n",
       "      <td>0.237236</td>\n",
       "    </tr>\n",
       "    <tr>\n",
       "      <th>Food and Drink</th>\n",
       "      <td>0.033805</td>\n",
       "      <td>0.030652</td>\n",
       "      <td>-0.024378</td>\n",
       "      <td>-0.037928</td>\n",
       "      <td>0.031963</td>\n",
       "      <td>0.009852</td>\n",
       "      <td>0.145162</td>\n",
       "      <td>0.186269</td>\n",
       "      <td>0.054027</td>\n",
       "      <td>0.078392</td>\n",
       "      <td>0.458148</td>\n",
       "      <td>0.085647</td>\n",
       "      <td>0.458836</td>\n",
       "      <td>1.000000</td>\n",
       "      <td>0.112230</td>\n",
       "      <td>0.035368</td>\n",
       "      <td>0.472705</td>\n",
       "      <td>0.079280</td>\n",
       "    </tr>\n",
       "    <tr>\n",
       "      <th>In-flight Service</th>\n",
       "      <td>-0.148705</td>\n",
       "      <td>-0.043875</td>\n",
       "      <td>-0.059180</td>\n",
       "      <td>-0.052098</td>\n",
       "      <td>0.032906</td>\n",
       "      <td>0.102991</td>\n",
       "      <td>0.325766</td>\n",
       "      <td>0.132191</td>\n",
       "      <td>-0.015827</td>\n",
       "      <td>0.784765</td>\n",
       "      <td>0.168195</td>\n",
       "      <td>0.622617</td>\n",
       "      <td>0.216085</td>\n",
       "      <td>0.112230</td>\n",
       "      <td>1.000000</td>\n",
       "      <td>0.252736</td>\n",
       "      <td>0.673906</td>\n",
       "      <td>0.758797</td>\n",
       "    </tr>\n",
       "    <tr>\n",
       "      <th>In-flight Wifi Service</th>\n",
       "      <td>-0.039079</td>\n",
       "      <td>-0.058316</td>\n",
       "      <td>0.033449</td>\n",
       "      <td>0.031633</td>\n",
       "      <td>0.421659</td>\n",
       "      <td>0.800636</td>\n",
       "      <td>0.051365</td>\n",
       "      <td>0.236017</td>\n",
       "      <td>0.402864</td>\n",
       "      <td>0.238530</td>\n",
       "      <td>0.041879</td>\n",
       "      <td>0.234292</td>\n",
       "      <td>0.039465</td>\n",
       "      <td>0.035368</td>\n",
       "      <td>0.252736</td>\n",
       "      <td>1.000000</td>\n",
       "      <td>0.217911</td>\n",
       "      <td>0.310265</td>\n",
       "    </tr>\n",
       "    <tr>\n",
       "      <th>In-flight Entertainment</th>\n",
       "      <td>0.062830</td>\n",
       "      <td>0.098776</td>\n",
       "      <td>0.012692</td>\n",
       "      <td>0.010738</td>\n",
       "      <td>0.025440</td>\n",
       "      <td>0.100325</td>\n",
       "      <td>0.270946</td>\n",
       "      <td>0.337029</td>\n",
       "      <td>0.008335</td>\n",
       "      <td>0.630501</td>\n",
       "      <td>0.601550</td>\n",
       "      <td>0.562832</td>\n",
       "      <td>0.614984</td>\n",
       "      <td>0.472705</td>\n",
       "      <td>0.673906</td>\n",
       "      <td>0.217911</td>\n",
       "      <td>1.000000</td>\n",
       "      <td>0.580594</td>\n",
       "    </tr>\n",
       "    <tr>\n",
       "      <th>Baggage Handling</th>\n",
       "      <td>-0.131806</td>\n",
       "      <td>-0.062051</td>\n",
       "      <td>0.000014</td>\n",
       "      <td>0.001472</td>\n",
       "      <td>-0.013038</td>\n",
       "      <td>0.118655</td>\n",
       "      <td>0.335552</td>\n",
       "      <td>0.143646</td>\n",
       "      <td>-0.019373</td>\n",
       "      <td>0.667915</td>\n",
       "      <td>0.207481</td>\n",
       "      <td>0.581333</td>\n",
       "      <td>0.237236</td>\n",
       "      <td>0.079280</td>\n",
       "      <td>0.758797</td>\n",
       "      <td>0.310265</td>\n",
       "      <td>0.580594</td>\n",
       "      <td>1.000000</td>\n",
       "    </tr>\n",
       "  </tbody>\n",
       "</table>\n",
       "</div>"
      ],
      "text/plain": [
       "                                             Age  Flight Distance  \\\n",
       "Age                                     1.000000         0.216008   \n",
       "Flight Distance                         0.216008         1.000000   \n",
       "Departure Delay                        -0.029652        -0.057768   \n",
       "Arrival Delay                          -0.040105        -0.038931   \n",
       "Departure and Arrival Time Convenience  0.031417        -0.000375   \n",
       "Ease of Online Booking                  0.004101         0.003000   \n",
       "Check-in Service                        0.004338         0.086513   \n",
       "Online Boarding                         0.308428         0.270290   \n",
       "Gate Location                           0.044775        -0.029484   \n",
       "On-board Service                        0.027707         0.061180   \n",
       "Seat Comfort                            0.209842         0.188149   \n",
       "Leg Room Service                        0.044784         0.110413   \n",
       "Cleanliness                             0.042418         0.066046   \n",
       "Food and Drink                          0.033805         0.030652   \n",
       "In-flight Service                      -0.148705        -0.043875   \n",
       "In-flight Wifi Service                 -0.039079        -0.058316   \n",
       "In-flight Entertainment                 0.062830         0.098776   \n",
       "Baggage Handling                       -0.131806        -0.062051   \n",
       "\n",
       "                                        Departure Delay  Arrival Delay  \\\n",
       "Age                                           -0.029652      -0.040105   \n",
       "Flight Distance                               -0.057768      -0.038931   \n",
       "Departure Delay                                1.000000       0.958426   \n",
       "Arrival Delay                                  0.958426       1.000000   \n",
       "Departure and Arrival Time Convenience        -0.008682      -0.004838   \n",
       "Ease of Online Booking                        -0.006995      -0.005526   \n",
       "Check-in Service                              -0.062246      -0.055716   \n",
       "Online Boarding                               -0.058503      -0.073451   \n",
       "Gate Location                                 -0.020778      -0.036250   \n",
       "On-board Service                              -0.027059      -0.019774   \n",
       "Seat Comfort                                  -0.066791      -0.075650   \n",
       "Leg Room Service                               0.016690       0.031062   \n",
       "Cleanliness                                   -0.028138      -0.035089   \n",
       "Food and Drink                                -0.024378      -0.037928   \n",
       "In-flight Service                             -0.059180      -0.052098   \n",
       "In-flight Wifi Service                         0.033449       0.031633   \n",
       "In-flight Entertainment                        0.012692       0.010738   \n",
       "Baggage Handling                               0.000014       0.001472   \n",
       "\n",
       "                                        Departure and Arrival Time Convenience  \\\n",
       "Age                                                                   0.031417   \n",
       "Flight Distance                                                      -0.000375   \n",
       "Departure Delay                                                      -0.008682   \n",
       "Arrival Delay                                                        -0.004838   \n",
       "Departure and Arrival Time Convenience                                1.000000   \n",
       "Ease of Online Booking                                                0.479198   \n",
       "Check-in Service                                                      0.022814   \n",
       "Online Boarding                                                       0.069611   \n",
       "Gate Location                                                         0.504231   \n",
       "On-board Service                                                      0.006908   \n",
       "Seat Comfort                                                          0.052516   \n",
       "Leg Room Service                                                      0.018260   \n",
       "Cleanliness                                                           0.011368   \n",
       "Food and Drink                                                        0.031963   \n",
       "In-flight Service                                                     0.032906   \n",
       "In-flight Wifi Service                                                0.421659   \n",
       "In-flight Entertainment                                               0.025440   \n",
       "Baggage Handling                                                     -0.013038   \n",
       "\n",
       "                                        Ease of Online Booking  \\\n",
       "Age                                                   0.004101   \n",
       "Flight Distance                                       0.003000   \n",
       "Departure Delay                                      -0.006995   \n",
       "Arrival Delay                                        -0.005526   \n",
       "Departure and Arrival Time Convenience                0.479198   \n",
       "Ease of Online Booking                                1.000000   \n",
       "Check-in Service                                     -0.051033   \n",
       "Online Boarding                                       0.224112   \n",
       "Gate Location                                         0.487505   \n",
       "On-board Service                                      0.103195   \n",
       "Seat Comfort                                          0.003446   \n",
       "Leg Room Service                                      0.161333   \n",
       "Cleanliness                                          -0.056613   \n",
       "Food and Drink                                        0.009852   \n",
       "In-flight Service                                     0.102991   \n",
       "In-flight Wifi Service                                0.800636   \n",
       "In-flight Entertainment                               0.100325   \n",
       "Baggage Handling                                      0.118655   \n",
       "\n",
       "                                        Check-in Service  Online Boarding  \\\n",
       "Age                                             0.004338         0.308428   \n",
       "Flight Distance                                 0.086513         0.270290   \n",
       "Departure Delay                                -0.062246        -0.058503   \n",
       "Arrival Delay                                  -0.055716        -0.073451   \n",
       "Departure and Arrival Time Convenience          0.022814         0.069611   \n",
       "Ease of Online Booking                         -0.051033         0.224112   \n",
       "Check-in Service                                1.000000         0.279410   \n",
       "Online Boarding                                 0.279410         1.000000   \n",
       "Gate Location                                  -0.101119         0.000809   \n",
       "On-board Service                                0.352676         0.268894   \n",
       "Seat Comfort                                    0.248087         0.482028   \n",
       "Leg Room Service                                0.304364         0.262504   \n",
       "Cleanliness                                     0.257819         0.339048   \n",
       "Food and Drink                                  0.145162         0.186269   \n",
       "In-flight Service                               0.325766         0.132191   \n",
       "In-flight Wifi Service                          0.051365         0.236017   \n",
       "In-flight Entertainment                         0.270946         0.337029   \n",
       "Baggage Handling                                0.335552         0.143646   \n",
       "\n",
       "                                        Gate Location  On-board Service  \\\n",
       "Age                                          0.044775          0.027707   \n",
       "Flight Distance                             -0.029484          0.061180   \n",
       "Departure Delay                             -0.020778         -0.027059   \n",
       "Arrival Delay                               -0.036250         -0.019774   \n",
       "Departure and Arrival Time Convenience       0.504231          0.006908   \n",
       "Ease of Online Booking                       0.487505          0.103195   \n",
       "Check-in Service                            -0.101119          0.352676   \n",
       "Online Boarding                              0.000809          0.268894   \n",
       "Gate Location                                1.000000         -0.063990   \n",
       "On-board Service                            -0.063990          1.000000   \n",
       "Seat Comfort                                 0.028807          0.221193   \n",
       "Leg Room Service                             0.013241          0.638850   \n",
       "Cleanliness                                  0.019967          0.200740   \n",
       "Food and Drink                               0.054027          0.078392   \n",
       "In-flight Service                           -0.015827          0.784765   \n",
       "In-flight Wifi Service                       0.402864          0.238530   \n",
       "In-flight Entertainment                      0.008335          0.630501   \n",
       "Baggage Handling                            -0.019373          0.667915   \n",
       "\n",
       "                                        Seat Comfort  Leg Room Service  \\\n",
       "Age                                         0.209842          0.044784   \n",
       "Flight Distance                             0.188149          0.110413   \n",
       "Departure Delay                            -0.066791          0.016690   \n",
       "Arrival Delay                              -0.075650          0.031062   \n",
       "Departure and Arrival Time Convenience      0.052516          0.018260   \n",
       "Ease of Online Booking                      0.003446          0.161333   \n",
       "Check-in Service                            0.248087          0.304364   \n",
       "Online Boarding                             0.482028          0.262504   \n",
       "Gate Location                               0.028807          0.013241   \n",
       "On-board Service                            0.221193          0.638850   \n",
       "Seat Comfort                                1.000000          0.263606   \n",
       "Leg Room Service                            0.263606          1.000000   \n",
       "Cleanliness                                 0.621747          0.220739   \n",
       "Food and Drink                              0.458148          0.085647   \n",
       "In-flight Service                           0.168195          0.622617   \n",
       "In-flight Wifi Service                      0.041879          0.234292   \n",
       "In-flight Entertainment                     0.601550          0.562832   \n",
       "Baggage Handling                            0.207481          0.581333   \n",
       "\n",
       "                                        Cleanliness  Food and Drink  \\\n",
       "Age                                        0.042418        0.033805   \n",
       "Flight Distance                            0.066046        0.030652   \n",
       "Departure Delay                           -0.028138       -0.024378   \n",
       "Arrival Delay                             -0.035089       -0.037928   \n",
       "Departure and Arrival Time Convenience     0.011368        0.031963   \n",
       "Ease of Online Booking                    -0.056613        0.009852   \n",
       "Check-in Service                           0.257819        0.145162   \n",
       "Online Boarding                            0.339048        0.186269   \n",
       "Gate Location                              0.019967        0.054027   \n",
       "On-board Service                           0.200740        0.078392   \n",
       "Seat Comfort                               0.621747        0.458148   \n",
       "Leg Room Service                           0.220739        0.085647   \n",
       "Cleanliness                                1.000000        0.458836   \n",
       "Food and Drink                             0.458836        1.000000   \n",
       "In-flight Service                          0.216085        0.112230   \n",
       "In-flight Wifi Service                     0.039465        0.035368   \n",
       "In-flight Entertainment                    0.614984        0.472705   \n",
       "Baggage Handling                           0.237236        0.079280   \n",
       "\n",
       "                                        In-flight Service  \\\n",
       "Age                                             -0.148705   \n",
       "Flight Distance                                 -0.043875   \n",
       "Departure Delay                                 -0.059180   \n",
       "Arrival Delay                                   -0.052098   \n",
       "Departure and Arrival Time Convenience           0.032906   \n",
       "Ease of Online Booking                           0.102991   \n",
       "Check-in Service                                 0.325766   \n",
       "Online Boarding                                  0.132191   \n",
       "Gate Location                                   -0.015827   \n",
       "On-board Service                                 0.784765   \n",
       "Seat Comfort                                     0.168195   \n",
       "Leg Room Service                                 0.622617   \n",
       "Cleanliness                                      0.216085   \n",
       "Food and Drink                                   0.112230   \n",
       "In-flight Service                                1.000000   \n",
       "In-flight Wifi Service                           0.252736   \n",
       "In-flight Entertainment                          0.673906   \n",
       "Baggage Handling                                 0.758797   \n",
       "\n",
       "                                        In-flight Wifi Service  \\\n",
       "Age                                                  -0.039079   \n",
       "Flight Distance                                      -0.058316   \n",
       "Departure Delay                                       0.033449   \n",
       "Arrival Delay                                         0.031633   \n",
       "Departure and Arrival Time Convenience                0.421659   \n",
       "Ease of Online Booking                                0.800636   \n",
       "Check-in Service                                      0.051365   \n",
       "Online Boarding                                       0.236017   \n",
       "Gate Location                                         0.402864   \n",
       "On-board Service                                      0.238530   \n",
       "Seat Comfort                                          0.041879   \n",
       "Leg Room Service                                      0.234292   \n",
       "Cleanliness                                           0.039465   \n",
       "Food and Drink                                        0.035368   \n",
       "In-flight Service                                     0.252736   \n",
       "In-flight Wifi Service                                1.000000   \n",
       "In-flight Entertainment                               0.217911   \n",
       "Baggage Handling                                      0.310265   \n",
       "\n",
       "                                        In-flight Entertainment  \\\n",
       "Age                                                    0.062830   \n",
       "Flight Distance                                        0.098776   \n",
       "Departure Delay                                        0.012692   \n",
       "Arrival Delay                                          0.010738   \n",
       "Departure and Arrival Time Convenience                 0.025440   \n",
       "Ease of Online Booking                                 0.100325   \n",
       "Check-in Service                                       0.270946   \n",
       "Online Boarding                                        0.337029   \n",
       "Gate Location                                          0.008335   \n",
       "On-board Service                                       0.630501   \n",
       "Seat Comfort                                           0.601550   \n",
       "Leg Room Service                                       0.562832   \n",
       "Cleanliness                                            0.614984   \n",
       "Food and Drink                                         0.472705   \n",
       "In-flight Service                                      0.673906   \n",
       "In-flight Wifi Service                                 0.217911   \n",
       "In-flight Entertainment                                1.000000   \n",
       "Baggage Handling                                       0.580594   \n",
       "\n",
       "                                        Baggage Handling  \n",
       "Age                                            -0.131806  \n",
       "Flight Distance                                -0.062051  \n",
       "Departure Delay                                 0.000014  \n",
       "Arrival Delay                                   0.001472  \n",
       "Departure and Arrival Time Convenience         -0.013038  \n",
       "Ease of Online Booking                          0.118655  \n",
       "Check-in Service                                0.335552  \n",
       "Online Boarding                                 0.143646  \n",
       "Gate Location                                  -0.019373  \n",
       "On-board Service                                0.667915  \n",
       "Seat Comfort                                    0.207481  \n",
       "Leg Room Service                                0.581333  \n",
       "Cleanliness                                     0.237236  \n",
       "Food and Drink                                  0.079280  \n",
       "In-flight Service                               0.758797  \n",
       "In-flight Wifi Service                          0.310265  \n",
       "In-flight Entertainment                         0.580594  \n",
       "Baggage Handling                                1.000000  "
      ]
     },
     "execution_count": 6,
     "metadata": {},
     "output_type": "execute_result"
    }
   ],
   "source": [
    "data.corr() #finding correlation between different features of the dataset"
   ]
  },
  {
   "cell_type": "code",
   "execution_count": 7,
   "id": "d4cf1143",
   "metadata": {},
   "outputs": [
    {
     "data": {
      "image/png": "[encoded data removed]",
      "text/plain": [
       "<Figure size 720x2160 with 22 Axes>"
      ]
     },
     "metadata": {
      "needs_background": "light"
     },
     "output_type": "display_data"
    }
   ],
   "source": [
    "# Bar plotting for different features\n",
    "cols = list(data.columns)\n",
    "cols_df=cols[1:]\n",
    "plt.figure(figsize=(10,30))\n",
    "for i in range(len(cols_df)):\n",
    "    plt.subplot(8,3,i+1)\n",
    "    plt.title(cols_df[i])\n",
    "    plt.xticks(rotation=45)\n",
    "    plt.hist(data[cols_df[i]])\n",
    "    \n",
    "plt.tight_layout()"
   ]
  },
  {
   "cell_type": "code",
   "execution_count": 8,
   "id": "20735b2b",
   "metadata": {},
   "outputs": [
    {
     "data": {
      "text/plain": [
       "<AxesSubplot:xlabel='Customer Type', ylabel='count'>"
      ]
     },
     "execution_count": 8,
     "metadata": {},
     "output_type": "execute_result"
    },
    {
     "data": {
      "image/png": "[encoded data removed]",
      "text/plain": [
       "<Figure size 432x288 with 1 Axes>"
      ]
     },
     "metadata": {
      "needs_background": "light"
     },
     "output_type": "display_data"
    }
   ],
   "source": [
    "# We can see the customer satisfaction ratios in the bar graph below\n",
    "sns.countplot(data=data, x= 'Customer Type', hue= 'Satisfaction')"
   ]
  },
  {
   "cell_type": "code",
   "execution_count": 9,
   "id": "e724b2c1",
   "metadata": {},
   "outputs": [
    {
     "data": {
      "text/plain": [
       "<AxesSubplot:xlabel='Flight Distance', ylabel='Density'>"
      ]
     },
     "execution_count": 9,
     "metadata": {},
     "output_type": "execute_result"
    },
    {
     "data": {
      "image/png": "[encoded data removed]",
      "text/plain": [
       "<Figure size 432x288 with 1 Axes>"
      ]
     },
     "metadata": {
      "needs_background": "light"
     },
     "output_type": "display_data"
    }
   ],
   "source": [
    "sns.distplot(data[\"Flight Distance\"])"
   ]
  },
  {
   "cell_type": "code",
   "execution_count": 10,
   "id": "8cfe4f69",
   "metadata": {},
   "outputs": [
    {
     "data": {
      "text/plain": [
       "<AxesSubplot:xlabel='Arrival Delay', ylabel='Density'>"
      ]
     },
     "execution_count": 10,
     "metadata": {},
     "output_type": "execute_result"
    },
    {
     "data": {
      "image/png": "[encoded data removed]",
      "text/plain": [
       "<Figure size 432x288 with 1 Axes>"
      ]
     },
     "metadata": {
      "needs_background": "light"
     },
     "output_type": "display_data"
    }
   ],
   "source": [
    "sns.distplot(data[\"Arrival Delay\"])"
   ]
  },
  {
   "cell_type": "code",
   "execution_count": 11,
   "id": "f07374ff",
   "metadata": {},
   "outputs": [
    {
     "data": {
      "text/plain": [
       "<AxesSubplot:xlabel='Departure Delay', ylabel='Density'>"
      ]
     },
     "execution_count": 11,
     "metadata": {},
     "output_type": "execute_result"
    },
    {
     "data": {
      "image/png": "[encoded data removed]",
      "text/plain": [
       "<Figure size 432x288 with 1 Axes>"
      ]
     },
     "metadata": {
      "needs_background": "light"
     },
     "output_type": "display_data"
    }
   ],
   "source": [
    "sns.distplot(data[\"Departure Delay\"])"
   ]
  },
  {
   "cell_type": "markdown",
   "id": "9c5459db",
   "metadata": {},
   "source": [
    "## Data preparation"
   ]
  },
  {
   "cell_type": "code",
   "execution_count": 12,
   "id": "2f75df4f",
   "metadata": {},
   "outputs": [
    {
     "data": {
      "text/plain": [
       "Gender                                    0\n",
       "Age                                       0\n",
       "Customer Type                             0\n",
       "Type of Travel                            0\n",
       "Class                                     0\n",
       "Flight Distance                           0\n",
       "Departure Delay                           0\n",
       "Arrival Delay                             2\n",
       "Departure and Arrival Time Convenience    0\n",
       "Ease of Online Booking                    0\n",
       "Check-in Service                          0\n",
       "Online Boarding                           0\n",
       "Gate Location                             0\n",
       "On-board Service                          0\n",
       "Seat Comfort                              0\n",
       "Leg Room Service                          0\n",
       "Cleanliness                               0\n",
       "Food and Drink                            0\n",
       "In-flight Service                         0\n",
       "In-flight Wifi Service                    0\n",
       "In-flight Entertainment                   0\n",
       "Baggage Handling                          0\n",
       "Satisfaction                              0\n",
       "dtype: int64"
      ]
     },
     "execution_count": 12,
     "metadata": {},
     "output_type": "execute_result"
    }
   ],
   "source": [
    "data.isnull().sum() # check if any null data"
   ]
  },
  {
   "cell_type": "code",
   "execution_count": 13,
   "id": "924cf11a",
   "metadata": {},
   "outputs": [
    {
     "data": {
      "text/html": [
       "<div>\n",
       "<style scoped>\n",
       "    .dataframe tbody tr th:only-of-type {\n",
       "        vertical-align: middle;\n",
       "    }\n",
       "\n",
       "    .dataframe tbody tr th {\n",
       "        vertical-align: top;\n",
       "    }\n",
       "\n",
       "    .dataframe thead th {\n",
       "        text-align: right;\n",
       "    }\n",
       "</style>\n",
       "<table border=\"1\" class=\"dataframe\">\n",
       "  <thead>\n",
       "    <tr style=\"text-align: right;\">\n",
       "      <th></th>\n",
       "      <th>Gender</th>\n",
       "      <th>Age</th>\n",
       "      <th>Customer Type</th>\n",
       "      <th>Type of Travel</th>\n",
       "      <th>Class</th>\n",
       "      <th>Flight Distance</th>\n",
       "      <th>Departure Delay</th>\n",
       "      <th>Arrival Delay</th>\n",
       "      <th>Departure and Arrival Time Convenience</th>\n",
       "      <th>Ease of Online Booking</th>\n",
       "      <th>...</th>\n",
       "      <th>On-board Service</th>\n",
       "      <th>Seat Comfort</th>\n",
       "      <th>Leg Room Service</th>\n",
       "      <th>Cleanliness</th>\n",
       "      <th>Food and Drink</th>\n",
       "      <th>In-flight Service</th>\n",
       "      <th>In-flight Wifi Service</th>\n",
       "      <th>In-flight Entertainment</th>\n",
       "      <th>Baggage Handling</th>\n",
       "      <th>Satisfaction</th>\n",
       "    </tr>\n",
       "  </thead>\n",
       "  <tbody>\n",
       "    <tr>\n",
       "      <th>0</th>\n",
       "      <td>Female</td>\n",
       "      <td>28</td>\n",
       "      <td>First-time</td>\n",
       "      <td>Business</td>\n",
       "      <td>Business</td>\n",
       "      <td>821</td>\n",
       "      <td>0</td>\n",
       "      <td>5.0</td>\n",
       "      <td>1</td>\n",
       "      <td>1</td>\n",
       "      <td>...</td>\n",
       "      <td>2</td>\n",
       "      <td>2</td>\n",
       "      <td>5</td>\n",
       "      <td>2</td>\n",
       "      <td>2</td>\n",
       "      <td>4</td>\n",
       "      <td>1</td>\n",
       "      <td>2</td>\n",
       "      <td>3</td>\n",
       "      <td>Neutral or Dissatisfied</td>\n",
       "    </tr>\n",
       "    <tr>\n",
       "      <th>1</th>\n",
       "      <td>Female</td>\n",
       "      <td>27</td>\n",
       "      <td>First-time</td>\n",
       "      <td>Business</td>\n",
       "      <td>Business</td>\n",
       "      <td>421</td>\n",
       "      <td>20</td>\n",
       "      <td>21.0</td>\n",
       "      <td>2</td>\n",
       "      <td>2</td>\n",
       "      <td>...</td>\n",
       "      <td>2</td>\n",
       "      <td>2</td>\n",
       "      <td>5</td>\n",
       "      <td>1</td>\n",
       "      <td>1</td>\n",
       "      <td>3</td>\n",
       "      <td>1</td>\n",
       "      <td>1</td>\n",
       "      <td>4</td>\n",
       "      <td>Neutral or Dissatisfied</td>\n",
       "    </tr>\n",
       "    <tr>\n",
       "      <th>2</th>\n",
       "      <td>Male</td>\n",
       "      <td>24</td>\n",
       "      <td>First-time</td>\n",
       "      <td>Business</td>\n",
       "      <td>Economy</td>\n",
       "      <td>453</td>\n",
       "      <td>16</td>\n",
       "      <td>30.0</td>\n",
       "      <td>2</td>\n",
       "      <td>2</td>\n",
       "      <td>...</td>\n",
       "      <td>2</td>\n",
       "      <td>5</td>\n",
       "      <td>4</td>\n",
       "      <td>5</td>\n",
       "      <td>5</td>\n",
       "      <td>4</td>\n",
       "      <td>2</td>\n",
       "      <td>5</td>\n",
       "      <td>4</td>\n",
       "      <td>Neutral or Dissatisfied</td>\n",
       "    </tr>\n",
       "    <tr>\n",
       "      <th>3</th>\n",
       "      <td>Male</td>\n",
       "      <td>9</td>\n",
       "      <td>Returning</td>\n",
       "      <td>Personal</td>\n",
       "      <td>Business</td>\n",
       "      <td>853</td>\n",
       "      <td>68</td>\n",
       "      <td>76.0</td>\n",
       "      <td>5</td>\n",
       "      <td>1</td>\n",
       "      <td>...</td>\n",
       "      <td>4</td>\n",
       "      <td>5</td>\n",
       "      <td>3</td>\n",
       "      <td>5</td>\n",
       "      <td>5</td>\n",
       "      <td>5</td>\n",
       "      <td>1</td>\n",
       "      <td>5</td>\n",
       "      <td>4</td>\n",
       "      <td>Neutral or Dissatisfied</td>\n",
       "    </tr>\n",
       "    <tr>\n",
       "      <th>4</th>\n",
       "      <td>Male</td>\n",
       "      <td>52</td>\n",
       "      <td>Returning</td>\n",
       "      <td>Personal</td>\n",
       "      <td>Economy</td>\n",
       "      <td>853</td>\n",
       "      <td>0</td>\n",
       "      <td>0.0</td>\n",
       "      <td>4</td>\n",
       "      <td>2</td>\n",
       "      <td>...</td>\n",
       "      <td>3</td>\n",
       "      <td>2</td>\n",
       "      <td>3</td>\n",
       "      <td>2</td>\n",
       "      <td>2</td>\n",
       "      <td>5</td>\n",
       "      <td>2</td>\n",
       "      <td>2</td>\n",
       "      <td>5</td>\n",
       "      <td>Neutral or Dissatisfied</td>\n",
       "    </tr>\n",
       "    <tr>\n",
       "      <th>...</th>\n",
       "      <td>...</td>\n",
       "      <td>...</td>\n",
       "      <td>...</td>\n",
       "      <td>...</td>\n",
       "      <td>...</td>\n",
       "      <td>...</td>\n",
       "      <td>...</td>\n",
       "      <td>...</td>\n",
       "      <td>...</td>\n",
       "      <td>...</td>\n",
       "      <td>...</td>\n",
       "      <td>...</td>\n",
       "      <td>...</td>\n",
       "      <td>...</td>\n",
       "      <td>...</td>\n",
       "      <td>...</td>\n",
       "      <td>...</td>\n",
       "      <td>...</td>\n",
       "      <td>...</td>\n",
       "      <td>...</td>\n",
       "      <td>...</td>\n",
       "    </tr>\n",
       "    <tr>\n",
       "      <th>929</th>\n",
       "      <td>Female</td>\n",
       "      <td>21</td>\n",
       "      <td>First-time</td>\n",
       "      <td>Business</td>\n",
       "      <td>Economy</td>\n",
       "      <td>309</td>\n",
       "      <td>0</td>\n",
       "      <td>0.0</td>\n",
       "      <td>2</td>\n",
       "      <td>1</td>\n",
       "      <td>...</td>\n",
       "      <td>2</td>\n",
       "      <td>2</td>\n",
       "      <td>3</td>\n",
       "      <td>2</td>\n",
       "      <td>2</td>\n",
       "      <td>3</td>\n",
       "      <td>1</td>\n",
       "      <td>2</td>\n",
       "      <td>4</td>\n",
       "      <td>Neutral or Dissatisfied</td>\n",
       "    </tr>\n",
       "    <tr>\n",
       "      <th>930</th>\n",
       "      <td>Female</td>\n",
       "      <td>54</td>\n",
       "      <td>Returning</td>\n",
       "      <td>Business</td>\n",
       "      <td>Business</td>\n",
       "      <td>309</td>\n",
       "      <td>0</td>\n",
       "      <td>0.0</td>\n",
       "      <td>0</td>\n",
       "      <td>0</td>\n",
       "      <td>...</td>\n",
       "      <td>4</td>\n",
       "      <td>2</td>\n",
       "      <td>0</td>\n",
       "      <td>4</td>\n",
       "      <td>3</td>\n",
       "      <td>4</td>\n",
       "      <td>1</td>\n",
       "      <td>4</td>\n",
       "      <td>4</td>\n",
       "      <td>Neutral or Dissatisfied</td>\n",
       "    </tr>\n",
       "    <tr>\n",
       "      <th>931</th>\n",
       "      <td>Male</td>\n",
       "      <td>39</td>\n",
       "      <td>Returning</td>\n",
       "      <td>Business</td>\n",
       "      <td>Business</td>\n",
       "      <td>3907</td>\n",
       "      <td>0</td>\n",
       "      <td>0.0</td>\n",
       "      <td>4</td>\n",
       "      <td>4</td>\n",
       "      <td>...</td>\n",
       "      <td>1</td>\n",
       "      <td>2</td>\n",
       "      <td>1</td>\n",
       "      <td>2</td>\n",
       "      <td>4</td>\n",
       "      <td>1</td>\n",
       "      <td>1</td>\n",
       "      <td>1</td>\n",
       "      <td>1</td>\n",
       "      <td>Neutral or Dissatisfied</td>\n",
       "    </tr>\n",
       "    <tr>\n",
       "      <th>932</th>\n",
       "      <td>Male</td>\n",
       "      <td>37</td>\n",
       "      <td>First-time</td>\n",
       "      <td>Business</td>\n",
       "      <td>Business</td>\n",
       "      <td>312</td>\n",
       "      <td>0</td>\n",
       "      <td>0.0</td>\n",
       "      <td>4</td>\n",
       "      <td>4</td>\n",
       "      <td>...</td>\n",
       "      <td>4</td>\n",
       "      <td>4</td>\n",
       "      <td>4</td>\n",
       "      <td>4</td>\n",
       "      <td>4</td>\n",
       "      <td>5</td>\n",
       "      <td>5</td>\n",
       "      <td>4</td>\n",
       "      <td>5</td>\n",
       "      <td>Satisfied</td>\n",
       "    </tr>\n",
       "    <tr>\n",
       "      <th>933</th>\n",
       "      <td>Female</td>\n",
       "      <td>59</td>\n",
       "      <td>Returning</td>\n",
       "      <td>Business</td>\n",
       "      <td>Business</td>\n",
       "      <td>2260</td>\n",
       "      <td>0</td>\n",
       "      <td>0.0</td>\n",
       "      <td>2</td>\n",
       "      <td>2</td>\n",
       "      <td>...</td>\n",
       "      <td>4</td>\n",
       "      <td>5</td>\n",
       "      <td>4</td>\n",
       "      <td>5</td>\n",
       "      <td>3</td>\n",
       "      <td>4</td>\n",
       "      <td>2</td>\n",
       "      <td>4</td>\n",
       "      <td>5</td>\n",
       "      <td>Satisfied</td>\n",
       "    </tr>\n",
       "  </tbody>\n",
       "</table>\n",
       "<p>932 rows × 23 columns</p>\n",
       "</div>"
      ],
      "text/plain": [
       "     Gender  Age Customer Type Type of Travel     Class  Flight Distance  \\\n",
       "0    Female   28    First-time       Business  Business              821   \n",
       "1    Female   27    First-time       Business  Business              421   \n",
       "2      Male   24    First-time       Business   Economy              453   \n",
       "3      Male    9     Returning       Personal  Business              853   \n",
       "4      Male   52     Returning       Personal   Economy              853   \n",
       "..      ...  ...           ...            ...       ...              ...   \n",
       "929  Female   21    First-time       Business   Economy              309   \n",
       "930  Female   54     Returning       Business  Business              309   \n",
       "931    Male   39     Returning       Business  Business             3907   \n",
       "932    Male   37    First-time       Business  Business              312   \n",
       "933  Female   59     Returning       Business  Business             2260   \n",
       "\n",
       "     Departure Delay  Arrival Delay  Departure and Arrival Time Convenience  \\\n",
       "0                  0            5.0                                       1   \n",
       "1                 20           21.0                                       2   \n",
       "2                 16           30.0                                       2   \n",
       "3                 68           76.0                                       5   \n",
       "4                  0            0.0                                       4   \n",
       "..               ...            ...                                     ...   \n",
       "929                0            0.0                                       2   \n",
       "930                0            0.0                                       0   \n",
       "931                0            0.0                                       4   \n",
       "932                0            0.0                                       4   \n",
       "933                0            0.0                                       2   \n",
       "\n",
       "     Ease of Online Booking  ...  On-board Service  Seat Comfort  \\\n",
       "0                         1  ...                 2             2   \n",
       "1                         2  ...                 2             2   \n",
       "2                         2  ...                 2             5   \n",
       "3                         1  ...                 4             5   \n",
       "4                         2  ...                 3             2   \n",
       "..                      ...  ...               ...           ...   \n",
       "929                       1  ...                 2             2   \n",
       "930                       0  ...                 4             2   \n",
       "931                       4  ...                 1             2   \n",
       "932                       4  ...                 4             4   \n",
       "933                       2  ...                 4             5   \n",
       "\n",
       "     Leg Room Service  Cleanliness  Food and Drink  In-flight Service  \\\n",
       "0                   5            2               2                  4   \n",
       "1                   5            1               1                  3   \n",
       "2                   4            5               5                  4   \n",
       "3                   3            5               5                  5   \n",
       "4                   3            2               2                  5   \n",
       "..                ...          ...             ...                ...   \n",
       "929                 3            2               2                  3   \n",
       "930                 0            4               3                  4   \n",
       "931                 1            2               4                  1   \n",
       "932                 4            4               4                  5   \n",
       "933                 4            5               3                  4   \n",
       "\n",
       "     In-flight Wifi Service  In-flight Entertainment  Baggage Handling  \\\n",
       "0                         1                        2                 3   \n",
       "1                         1                        1                 4   \n",
       "2                         2                        5                 4   \n",
       "3                         1                        5                 4   \n",
       "4                         2                        2                 5   \n",
       "..                      ...                      ...               ...   \n",
       "929                       1                        2                 4   \n",
       "930                       1                        4                 4   \n",
       "931                       1                        1                 1   \n",
       "932                       5                        4                 5   \n",
       "933                       2                        4                 5   \n",
       "\n",
       "                Satisfaction  \n",
       "0    Neutral or Dissatisfied  \n",
       "1    Neutral or Dissatisfied  \n",
       "2    Neutral or Dissatisfied  \n",
       "3    Neutral or Dissatisfied  \n",
       "4    Neutral or Dissatisfied  \n",
       "..                       ...  \n",
       "929  Neutral or Dissatisfied  \n",
       "930  Neutral or Dissatisfied  \n",
       "931  Neutral or Dissatisfied  \n",
       "932                Satisfied  \n",
       "933                Satisfied  \n",
       "\n",
       "[932 rows x 23 columns]"
      ]
     },
     "execution_count": 13,
     "metadata": {},
     "output_type": "execute_result"
    }
   ],
   "source": [
    "data.dropna() # dropping null values"
   ]
  },
  {
   "cell_type": "code",
   "execution_count": 14,
   "id": "fc796b43",
   "metadata": {},
   "outputs": [
    {
     "data": {
      "text/plain": [
       "Age                                          AxesSubplot(0.125,0.799681;0.133621x0.0803191)\n",
       "Flight Distance                           AxesSubplot(0.285345,0.799681;0.133621x0.0803191)\n",
       "Departure Delay                            AxesSubplot(0.44569,0.799681;0.133621x0.0803191)\n",
       "Arrival Delay                             AxesSubplot(0.606034,0.799681;0.133621x0.0803191)\n",
       "Departure and Arrival Time Convenience    AxesSubplot(0.766379,0.799681;0.133621x0.0803191)\n",
       "Ease of Online Booking                       AxesSubplot(0.125,0.703298;0.133621x0.0803191)\n",
       "Check-in Service                          AxesSubplot(0.285345,0.703298;0.133621x0.0803191)\n",
       "Online Boarding                            AxesSubplot(0.44569,0.703298;0.133621x0.0803191)\n",
       "Gate Location                             AxesSubplot(0.606034,0.703298;0.133621x0.0803191)\n",
       "On-board Service                          AxesSubplot(0.766379,0.703298;0.133621x0.0803191)\n",
       "Seat Comfort                                 AxesSubplot(0.125,0.606915;0.133621x0.0803191)\n",
       "Leg Room Service                          AxesSubplot(0.285345,0.606915;0.133621x0.0803191)\n",
       "Cleanliness                                AxesSubplot(0.44569,0.606915;0.133621x0.0803191)\n",
       "Food and Drink                            AxesSubplot(0.606034,0.606915;0.133621x0.0803191)\n",
       "In-flight Service                         AxesSubplot(0.766379,0.606915;0.133621x0.0803191)\n",
       "In-flight Wifi Service                       AxesSubplot(0.125,0.510532;0.133621x0.0803191)\n",
       "In-flight Entertainment                   AxesSubplot(0.285345,0.510532;0.133621x0.0803191)\n",
       "Baggage Handling                           AxesSubplot(0.44569,0.510532;0.133621x0.0803191)\n",
       "dtype: object"
      ]
     },
     "execution_count": 14,
     "metadata": {},
     "output_type": "execute_result"
    },
    {
     "data": {
      "image/png": "[encoded data removed]",
      "text/plain": [
       "<Figure size 1224x1440 with 40 Axes>"
      ]
     },
     "metadata": {
      "needs_background": "light"
     },
     "output_type": "display_data"
    }
   ],
   "source": [
    "data.plot(kind='box', subplots=True, layout=(8,5), figsize=(17,20)) #checking outliers"
   ]
  },
  {
   "cell_type": "code",
   "execution_count": 15,
   "id": "d2f20fa9",
   "metadata": {},
   "outputs": [],
   "source": [
    "#outliers treatment\n",
    "data=data[data['Flight Distance']<data['Flight Distance'].quantile(0.9)]\n",
    "data=data[data['Departure Delay']<data['Departure Delay'].quantile(0.9)]\n",
    "data=data[data['Arrival Delay']<data['Arrival Delay'].quantile(0.9)]"
   ]
  },
  {
   "cell_type": "code",
   "execution_count": 16,
   "id": "695d0a2d",
   "metadata": {},
   "outputs": [
    {
     "data": {
      "text/plain": [
       "Age                                          AxesSubplot(0.125,0.799681;0.133621x0.0803191)\n",
       "Flight Distance                           AxesSubplot(0.285345,0.799681;0.133621x0.0803191)\n",
       "Departure Delay                            AxesSubplot(0.44569,0.799681;0.133621x0.0803191)\n",
       "Arrival Delay                             AxesSubplot(0.606034,0.799681;0.133621x0.0803191)\n",
       "Departure and Arrival Time Convenience    AxesSubplot(0.766379,0.799681;0.133621x0.0803191)\n",
       "Ease of Online Booking                       AxesSubplot(0.125,0.703298;0.133621x0.0803191)\n",
       "Check-in Service                          AxesSubplot(0.285345,0.703298;0.133621x0.0803191)\n",
       "Online Boarding                            AxesSubplot(0.44569,0.703298;0.133621x0.0803191)\n",
       "Gate Location                             AxesSubplot(0.606034,0.703298;0.133621x0.0803191)\n",
       "On-board Service                          AxesSubplot(0.766379,0.703298;0.133621x0.0803191)\n",
       "Seat Comfort                                 AxesSubplot(0.125,0.606915;0.133621x0.0803191)\n",
       "Leg Room Service                          AxesSubplot(0.285345,0.606915;0.133621x0.0803191)\n",
       "Cleanliness                                AxesSubplot(0.44569,0.606915;0.133621x0.0803191)\n",
       "Food and Drink                            AxesSubplot(0.606034,0.606915;0.133621x0.0803191)\n",
       "In-flight Service                         AxesSubplot(0.766379,0.606915;0.133621x0.0803191)\n",
       "In-flight Wifi Service                       AxesSubplot(0.125,0.510532;0.133621x0.0803191)\n",
       "In-flight Entertainment                   AxesSubplot(0.285345,0.510532;0.133621x0.0803191)\n",
       "Baggage Handling                           AxesSubplot(0.44569,0.510532;0.133621x0.0803191)\n",
       "dtype: object"
      ]
     },
     "execution_count": 16,
     "metadata": {},
     "output_type": "execute_result"
    },
    {
     "data": {
      "image/png": "[encoded data removed]",
      "text/plain": [
       "<Figure size 1224x1440 with 40 Axes>"
      ]
     },
     "metadata": {
      "needs_background": "light"
     },
     "output_type": "display_data"
    }
   ],
   "source": [
    "data.plot(kind='box', subplots=True, layout=(8,5), figsize=(17,20))"
   ]
  },
  {
   "cell_type": "code",
   "execution_count": 17,
   "id": "faa12679",
   "metadata": {},
   "outputs": [],
   "source": [
    "#Converting data types\n",
    "data['Gender'] = LabelEncoder().fit_transform(data[\"Gender\"])\n",
    "data['Customer Type'] = LabelEncoder().fit_transform(data[\"Customer Type\"])\n",
    "data['Type of Travel'] = LabelEncoder().fit_transform(data[\"Type of Travel\"])\n",
    "data['Class'] = LabelEncoder().fit_transform(data[\"Class\"])\n",
    "data['Satisfaction'] = LabelEncoder().fit_transform(data[\"Satisfaction\"])"
   ]
  },
  {
   "cell_type": "code",
   "execution_count": 18,
   "id": "deea6283",
   "metadata": {},
   "outputs": [
    {
     "data": {
      "text/html": [
       "<div>\n",
       "<style scoped>\n",
       "    .dataframe tbody tr th:only-of-type {\n",
       "        vertical-align: middle;\n",
       "    }\n",
       "\n",
       "    .dataframe tbody tr th {\n",
       "        vertical-align: top;\n",
       "    }\n",
       "\n",
       "    .dataframe thead th {\n",
       "        text-align: right;\n",
       "    }\n",
       "</style>\n",
       "<table border=\"1\" class=\"dataframe\">\n",
       "  <thead>\n",
       "    <tr style=\"text-align: right;\">\n",
       "      <th></th>\n",
       "      <th>Gender</th>\n",
       "      <th>Age</th>\n",
       "      <th>Customer Type</th>\n",
       "      <th>Type of Travel</th>\n",
       "      <th>Class</th>\n",
       "      <th>Flight Distance</th>\n",
       "      <th>Departure Delay</th>\n",
       "      <th>Arrival Delay</th>\n",
       "      <th>Departure and Arrival Time Convenience</th>\n",
       "      <th>Ease of Online Booking</th>\n",
       "      <th>...</th>\n",
       "      <th>On-board Service</th>\n",
       "      <th>Seat Comfort</th>\n",
       "      <th>Leg Room Service</th>\n",
       "      <th>Cleanliness</th>\n",
       "      <th>Food and Drink</th>\n",
       "      <th>In-flight Service</th>\n",
       "      <th>In-flight Wifi Service</th>\n",
       "      <th>In-flight Entertainment</th>\n",
       "      <th>Baggage Handling</th>\n",
       "      <th>Satisfaction</th>\n",
       "    </tr>\n",
       "  </thead>\n",
       "  <tbody>\n",
       "    <tr>\n",
       "      <th>0</th>\n",
       "      <td>0</td>\n",
       "      <td>28</td>\n",
       "      <td>0</td>\n",
       "      <td>0</td>\n",
       "      <td>0</td>\n",
       "      <td>821</td>\n",
       "      <td>0</td>\n",
       "      <td>5.0</td>\n",
       "      <td>1</td>\n",
       "      <td>1</td>\n",
       "      <td>...</td>\n",
       "      <td>2</td>\n",
       "      <td>2</td>\n",
       "      <td>5</td>\n",
       "      <td>2</td>\n",
       "      <td>2</td>\n",
       "      <td>4</td>\n",
       "      <td>1</td>\n",
       "      <td>2</td>\n",
       "      <td>3</td>\n",
       "      <td>0</td>\n",
       "    </tr>\n",
       "    <tr>\n",
       "      <th>4</th>\n",
       "      <td>1</td>\n",
       "      <td>52</td>\n",
       "      <td>1</td>\n",
       "      <td>1</td>\n",
       "      <td>1</td>\n",
       "      <td>853</td>\n",
       "      <td>0</td>\n",
       "      <td>0.0</td>\n",
       "      <td>4</td>\n",
       "      <td>2</td>\n",
       "      <td>...</td>\n",
       "      <td>3</td>\n",
       "      <td>2</td>\n",
       "      <td>3</td>\n",
       "      <td>2</td>\n",
       "      <td>2</td>\n",
       "      <td>5</td>\n",
       "      <td>2</td>\n",
       "      <td>2</td>\n",
       "      <td>5</td>\n",
       "      <td>0</td>\n",
       "    </tr>\n",
       "    <tr>\n",
       "      <th>5</th>\n",
       "      <td>1</td>\n",
       "      <td>70</td>\n",
       "      <td>1</td>\n",
       "      <td>1</td>\n",
       "      <td>1</td>\n",
       "      <td>821</td>\n",
       "      <td>0</td>\n",
       "      <td>0.0</td>\n",
       "      <td>5</td>\n",
       "      <td>2</td>\n",
       "      <td>...</td>\n",
       "      <td>4</td>\n",
       "      <td>5</td>\n",
       "      <td>2</td>\n",
       "      <td>5</td>\n",
       "      <td>5</td>\n",
       "      <td>5</td>\n",
       "      <td>2</td>\n",
       "      <td>5</td>\n",
       "      <td>4</td>\n",
       "      <td>0</td>\n",
       "    </tr>\n",
       "    <tr>\n",
       "      <th>6</th>\n",
       "      <td>0</td>\n",
       "      <td>48</td>\n",
       "      <td>1</td>\n",
       "      <td>1</td>\n",
       "      <td>1</td>\n",
       "      <td>821</td>\n",
       "      <td>0</td>\n",
       "      <td>0.0</td>\n",
       "      <td>3</td>\n",
       "      <td>2</td>\n",
       "      <td>...</td>\n",
       "      <td>5</td>\n",
       "      <td>1</td>\n",
       "      <td>2</td>\n",
       "      <td>2</td>\n",
       "      <td>1</td>\n",
       "      <td>5</td>\n",
       "      <td>2</td>\n",
       "      <td>5</td>\n",
       "      <td>5</td>\n",
       "      <td>0</td>\n",
       "    </tr>\n",
       "    <tr>\n",
       "      <th>7</th>\n",
       "      <td>0</td>\n",
       "      <td>61</td>\n",
       "      <td>1</td>\n",
       "      <td>1</td>\n",
       "      <td>1</td>\n",
       "      <td>821</td>\n",
       "      <td>0</td>\n",
       "      <td>0.0</td>\n",
       "      <td>5</td>\n",
       "      <td>2</td>\n",
       "      <td>...</td>\n",
       "      <td>5</td>\n",
       "      <td>5</td>\n",
       "      <td>2</td>\n",
       "      <td>1</td>\n",
       "      <td>4</td>\n",
       "      <td>5</td>\n",
       "      <td>2</td>\n",
       "      <td>5</td>\n",
       "      <td>5</td>\n",
       "      <td>0</td>\n",
       "    </tr>\n",
       "  </tbody>\n",
       "</table>\n",
       "<p>5 rows × 23 columns</p>\n",
       "</div>"
      ],
      "text/plain": [
       "   Gender  Age  Customer Type  Type of Travel  Class  Flight Distance  \\\n",
       "0       0   28              0               0      0              821   \n",
       "4       1   52              1               1      1              853   \n",
       "5       1   70              1               1      1              821   \n",
       "6       0   48              1               1      1              821   \n",
       "7       0   61              1               1      1              821   \n",
       "\n",
       "   Departure Delay  Arrival Delay  Departure and Arrival Time Convenience  \\\n",
       "0                0            5.0                                       1   \n",
       "4                0            0.0                                       4   \n",
       "5                0            0.0                                       5   \n",
       "6                0            0.0                                       3   \n",
       "7                0            0.0                                       5   \n",
       "\n",
       "   Ease of Online Booking  ...  On-board Service  Seat Comfort  \\\n",
       "0                       1  ...                 2             2   \n",
       "4                       2  ...                 3             2   \n",
       "5                       2  ...                 4             5   \n",
       "6                       2  ...                 5             1   \n",
       "7                       2  ...                 5             5   \n",
       "\n",
       "   Leg Room Service  Cleanliness  Food and Drink  In-flight Service  \\\n",
       "0                 5            2               2                  4   \n",
       "4                 3            2               2                  5   \n",
       "5                 2            5               5                  5   \n",
       "6                 2            2               1                  5   \n",
       "7                 2            1               4                  5   \n",
       "\n",
       "   In-flight Wifi Service  In-flight Entertainment  Baggage Handling  \\\n",
       "0                       1                        2                 3   \n",
       "4                       2                        2                 5   \n",
       "5                       2                        5                 4   \n",
       "6                       2                        5                 5   \n",
       "7                       2                        5                 5   \n",
       "\n",
       "   Satisfaction  \n",
       "0             0  \n",
       "4             0  \n",
       "5             0  \n",
       "6             0  \n",
       "7             0  \n",
       "\n",
       "[5 rows x 23 columns]"
      ]
     },
     "execution_count": 18,
     "metadata": {},
     "output_type": "execute_result"
    }
   ],
   "source": [
    "data.head()"
   ]
  },
  {
   "cell_type": "markdown",
   "id": "0e433aa1",
   "metadata": {},
   "source": [
    "## Data separation into training and testing sets"
   ]
  },
  {
   "cell_type": "code",
   "execution_count": 19,
   "id": "6bf92aaf",
   "metadata": {},
   "outputs": [],
   "source": [
    "x = data.drop(\"Satisfaction\", axis = 1).values\n",
    "y = data['Satisfaction'].values "
   ]
  },
  {
   "cell_type": "code",
   "execution_count": 20,
   "id": "14fddaee",
   "metadata": {},
   "outputs": [],
   "source": [
    "x_train, x_test, y_train, y_test = train_test_split(x, y, test_size= 0.2, random_state=142) #split the data into 80:20 ratio"
   ]
  },
  {
   "cell_type": "code",
   "execution_count": 21,
   "id": "d81b513f",
   "metadata": {},
   "outputs": [
    {
     "data": {
      "text/plain": [
       "(539, 22)"
      ]
     },
     "execution_count": 21,
     "metadata": {},
     "output_type": "execute_result"
    }
   ],
   "source": [
    "x_train.shape #size of x train"
   ]
  },
  {
   "cell_type": "code",
   "execution_count": 22,
   "id": "3ddd383b",
   "metadata": {},
   "outputs": [
    {
     "data": {
      "text/plain": [
       "(135, 22)"
      ]
     },
     "execution_count": 22,
     "metadata": {},
     "output_type": "execute_result"
    }
   ],
   "source": [
    "x_test.shape #size of x test"
   ]
  },
  {
   "cell_type": "code",
   "execution_count": 23,
   "id": "989398d7",
   "metadata": {},
   "outputs": [
    {
     "data": {
      "text/plain": [
       "(539,)"
      ]
     },
     "execution_count": 23,
     "metadata": {},
     "output_type": "execute_result"
    }
   ],
   "source": [
    "y_train.shape #size of y train"
   ]
  },
  {
   "cell_type": "code",
   "execution_count": 24,
   "id": "f05dce02",
   "metadata": {},
   "outputs": [
    {
     "data": {
      "text/plain": [
       "(135,)"
      ]
     },
     "execution_count": 24,
     "metadata": {},
     "output_type": "execute_result"
    }
   ],
   "source": [
    "y_test.shape #size of y test"
   ]
  },
  {
   "cell_type": "markdown",
   "id": "98e12955",
   "metadata": {},
   "source": [
    "## Model evaluation"
   ]
  },
  {
   "cell_type": "markdown",
   "id": "c15c236c",
   "metadata": {},
   "source": [
    "**Regression models:** Linear regression is used for predicting the continuous dependent variable using a given set of independent features whereas Logistic Regression is used to predict the categorical. Linear regression is used to solve regression problems whereas logistic regression is used to solve classification problems. We have shown here both the models with single datasets."
   ]
  },
  {
   "cell_type": "markdown",
   "id": "ca1a1ad0",
   "metadata": {},
   "source": [
    "### Linear Regression\n",
    "\n",
    "Linear regression is a linear approach for modelling the relationship between a scalar response and one or more explanatory variables."
   ]
  },
  {
   "cell_type": "code",
   "execution_count": 25,
   "id": "b5173eaa",
   "metadata": {},
   "outputs": [
    {
     "name": "stdout",
     "output_type": "stream",
     "text": [
      "MSE: 0.014398480699359036\n",
      "Root MSE: 0.11999366941367796\n",
      "R Squared: 0.7038612660861936\n"
     ]
    }
   ],
   "source": [
    "reg = linear_model.LinearRegression()\n",
    "reg.fit(x_train, y_train)\n",
    "\n",
    "predicted = reg.predict(x_test)\n",
    "mse = ((np.array(y_test)-predicted)**2).sum()/len(y)\n",
    "r2 = r2_score(y_test, predicted)\n",
    "print(\"MSE:\", mse)\n",
    "print(\"Root MSE:\", np.sqrt(mse))\n",
    "print(\"R Squared:\", r2)"
   ]
  },
  {
   "cell_type": "code",
   "execution_count": 26,
   "id": "81e49c37",
   "metadata": {},
   "outputs": [
    {
     "data": {
      "text/plain": [
       "[Text(0.5, 1.0, 'Linear regression graph')]"
      ]
     },
     "execution_count": 26,
     "metadata": {},
     "output_type": "execute_result"
    },
    {
     "data": {
      "image/png": "[encoded data removed]",
      "text/plain": [
       "<Figure size 432x288 with 1 Axes>"
      ]
     },
     "metadata": {
      "needs_background": "light"
     },
     "output_type": "display_data"
    }
   ],
   "source": [
    "sns.regplot(predicted,y_test).set(title='Linear regression graph') # graph showing linear line"
   ]
  },
  {
   "cell_type": "markdown",
   "id": "ad597e4e",
   "metadata": {},
   "source": [
    "When we train and test on different data the results are slighlty poorer than testing on the full training set but the performance of the model is still good at  𝑅2  of 0.70. The MSE value corresponds to a prediction error of 0.11"
   ]
  },
  {
   "cell_type": "markdown",
   "id": "63671afd",
   "metadata": {},
   "source": [
    "### Logistic Regression\n",
    "\n",
    "Logistic Regression is a useful model to run early in the workflow. Logistic regression measures the relationship between the categorical dependent variable (feature) and one or more independent variables (features) by estimating probabilities using a logistic function, which is the cumulative logistic distribution. Reference Wikipedia."
   ]
  },
  {
   "cell_type": "code",
   "execution_count": 27,
   "id": "15a9128b",
   "metadata": {
    "scrolled": true
   },
   "outputs": [
    {
     "name": "stdout",
     "output_type": "stream",
     "text": [
      "Acc on training set:  0.8070500927643784\n",
      "Acc on test set:  0.8148148148148148\n"
     ]
    }
   ],
   "source": [
    "# training model with all features\n",
    "lr = LogisticRegression().fit(x_train, y_train)\n",
    "\n",
    "# making predictions on training and test set\n",
    "y_pred_train = lr.predict(x_train)\n",
    "y_pred_test = lr.predict(x_test)\n",
    "\n",
    "# calculating accuracy score on training set\n",
    "print(\"Acc on training set: \", accuracy_score(y_train, y_pred_train))\n",
    "\n",
    "# calculating accuracy score on test set\n",
    "print(\"Acc on test set: \", accuracy_score(y_test, y_pred_test))"
   ]
  },
  {
   "cell_type": "markdown",
   "id": "5e5132c7",
   "metadata": {},
   "source": [
    "**RFE method in Logistic Regression:** Recursive Feature Estimation which removes features one by one, evaluating the model each time and selecting the best model for a target number of features.\n",
    "\n",
    "*(parameter analysis part from the task covered- automatically prioritizes features and evaluates the model)*"
   ]
  },
  {
   "cell_type": "code",
   "execution_count": 28,
   "id": "2d44d4cc",
   "metadata": {},
   "outputs": [
    {
     "data": {
      "text/plain": [
       "RFE(estimator=LogisticRegression(C=100), n_features_to_select=5)"
      ]
     },
     "execution_count": 28,
     "metadata": {},
     "output_type": "execute_result"
    }
   ],
   "source": [
    "# Logistic regression with RFE method\n",
    "rfe = linear_model.LogisticRegression(C = 100)\n",
    "selector = RFE(rfe,n_features_to_select=5,step=1)\n",
    "selector.fit(x_train,y_train)"
   ]
  },
  {
   "cell_type": "code",
   "execution_count": 29,
   "id": "263bd2c0",
   "metadata": {},
   "outputs": [],
   "source": [
    "# predict data of RFE model\n",
    "train_fpredict = selector.predict(x_train)\n",
    "test_fpredict = selector.predict(x_test)"
   ]
  },
  {
   "cell_type": "code",
   "execution_count": 30,
   "id": "ae37c722",
   "metadata": {},
   "outputs": [
    {
     "data": {
      "text/plain": [
       "[Text(0.5, 1.0, 'RFE logistic regression graph')]"
      ]
     },
     "execution_count": 30,
     "metadata": {},
     "output_type": "execute_result"
    },
    {
     "data": {
      "image/png": "[encoded data removed]",
      "text/plain": [
       "<Figure size 432x288 with 1 Axes>"
      ]
     },
     "metadata": {
      "needs_background": "light"
     },
     "output_type": "display_data"
    }
   ],
   "source": [
    "sns.regplot(x=train_fpredict, y=y_train, data=data, logistic=True, ci=None).set(title='RFE logistic regression graph') #graph showing logistic line"
   ]
  },
  {
   "cell_type": "markdown",
   "id": "59a7e6e5",
   "metadata": {},
   "source": [
    "**Accuracy score** is used to measure the model performance in terms of measuring the ratio of sum of true positive and true negatives out of all the predictions made. # If we see very less difference between train and test data accuracy score, concludes model is well predicted."
   ]
  },
  {
   "cell_type": "code",
   "execution_count": 31,
   "id": "4207e386",
   "metadata": {},
   "outputs": [
    {
     "name": "stdout",
     "output_type": "stream",
     "text": [
      "Accuracy score:\n",
      "\n",
      "train data after RFE:  0.8998144712430427\n",
      "test data after RFE:  0.9037037037037037\n"
     ]
    }
   ],
   "source": [
    "# accuracy score after RFE method\n",
    "print(\"Accuracy score:\\n\")\n",
    "print(\"train data after RFE: \", accuracy_score(y_train,train_fpredict))\n",
    "print(\"test data after RFE: \", accuracy_score(y_test,test_fpredict))\n",
    "\n",
    "acc_log = accuracy_score(y_test,test_fpredict)\n"
   ]
  },
  {
   "cell_type": "markdown",
   "id": "23428bee",
   "metadata": {},
   "source": [
    "After seeing accuracy score before and after RFE method in logistic regression, we can say that **RFE** makes logistic regression model more accurate for prediction."
   ]
  },
  {
   "cell_type": "code",
   "execution_count": 32,
   "id": "2e79e117",
   "metadata": {},
   "outputs": [
    {
     "data": {
      "text/html": [
       "<div>\n",
       "<style scoped>\n",
       "    .dataframe tbody tr th:only-of-type {\n",
       "        vertical-align: middle;\n",
       "    }\n",
       "\n",
       "    .dataframe tbody tr th {\n",
       "        vertical-align: top;\n",
       "    }\n",
       "\n",
       "    .dataframe thead th {\n",
       "        text-align: right;\n",
       "    }\n",
       "</style>\n",
       "<table border=\"1\" class=\"dataframe\">\n",
       "  <thead>\n",
       "    <tr style=\"text-align: right;\">\n",
       "      <th></th>\n",
       "      <th>Y_test</th>\n",
       "      <th>Y_pred</th>\n",
       "    </tr>\n",
       "  </thead>\n",
       "  <tbody>\n",
       "    <tr>\n",
       "      <th>0</th>\n",
       "      <td>0</td>\n",
       "      <td>0</td>\n",
       "    </tr>\n",
       "    <tr>\n",
       "      <th>1</th>\n",
       "      <td>1</td>\n",
       "      <td>1</td>\n",
       "    </tr>\n",
       "    <tr>\n",
       "      <th>2</th>\n",
       "      <td>1</td>\n",
       "      <td>1</td>\n",
       "    </tr>\n",
       "    <tr>\n",
       "      <th>3</th>\n",
       "      <td>0</td>\n",
       "      <td>0</td>\n",
       "    </tr>\n",
       "    <tr>\n",
       "      <th>4</th>\n",
       "      <td>0</td>\n",
       "      <td>0</td>\n",
       "    </tr>\n",
       "    <tr>\n",
       "      <th>5</th>\n",
       "      <td>1</td>\n",
       "      <td>1</td>\n",
       "    </tr>\n",
       "    <tr>\n",
       "      <th>6</th>\n",
       "      <td>0</td>\n",
       "      <td>1</td>\n",
       "    </tr>\n",
       "    <tr>\n",
       "      <th>7</th>\n",
       "      <td>1</td>\n",
       "      <td>1</td>\n",
       "    </tr>\n",
       "    <tr>\n",
       "      <th>8</th>\n",
       "      <td>1</td>\n",
       "      <td>1</td>\n",
       "    </tr>\n",
       "    <tr>\n",
       "      <th>9</th>\n",
       "      <td>1</td>\n",
       "      <td>1</td>\n",
       "    </tr>\n",
       "  </tbody>\n",
       "</table>\n",
       "</div>"
      ],
      "text/plain": [
       "   Y_test  Y_pred\n",
       "0       0       0\n",
       "1       1       1\n",
       "2       1       1\n",
       "3       0       0\n",
       "4       0       0\n",
       "5       1       1\n",
       "6       0       1\n",
       "7       1       1\n",
       "8       1       1\n",
       "9       1       1"
      ]
     },
     "execution_count": 32,
     "metadata": {},
     "output_type": "execute_result"
    }
   ],
   "source": [
    "# comparison example of prediction\n",
    "Y_pred = selector.predict(x_test)\n",
    "df = pd.DataFrame({\"Y_test\" : y_test , \"Y_pred\": Y_pred})\n",
    "df.head(10)"
   ]
  },
  {
   "cell_type": "markdown",
   "id": "f3c19a82",
   "metadata": {},
   "source": [
    "A **confusion matrix** visualizes and summarizes the performance of a classification algorithm."
   ]
  },
  {
   "cell_type": "code",
   "execution_count": 33,
   "id": "ab381162",
   "metadata": {},
   "outputs": [
    {
     "data": {
      "text/plain": [
       "array([[231,  25],\n",
       "       [ 29, 254]], dtype=int64)"
      ]
     },
     "execution_count": 33,
     "metadata": {},
     "output_type": "execute_result"
    }
   ],
   "source": [
    "cm = confusion_matrix(y_train, train_fpredict)\n",
    "cm"
   ]
  },
  {
   "cell_type": "code",
   "execution_count": 34,
   "id": "36ace28b",
   "metadata": {},
   "outputs": [
    {
     "data": {
      "text/plain": [
       "[Text(0.5, 1.0, 'confusion matrix heatmap')]"
      ]
     },
     "execution_count": 34,
     "metadata": {},
     "output_type": "execute_result"
    },
    {
     "data": {
      "image/png": "[encoded data removed]",
      "text/plain": [
       "<Figure size 432x288 with 2 Axes>"
      ]
     },
     "metadata": {
      "needs_background": "light"
     },
     "output_type": "display_data"
    }
   ],
   "source": [
    "sns.heatmap(cm, annot=True).set(title='confusion matrix heatmap')"
   ]
  },
  {
   "cell_type": "markdown",
   "id": "1428d4ba",
   "metadata": {},
   "source": [
    "The **F1-score** combines the precision and recall of a classifier into a single metric by taking their harmonic mean. It is primarily used to compare the performance of two classifiers. Suppose that classifier A has a higher recall, and classifier B has higher precision."
   ]
  },
  {
   "cell_type": "code",
   "execution_count": 35,
   "id": "df5d3e88",
   "metadata": {},
   "outputs": [
    {
     "name": "stdout",
     "output_type": "stream",
     "text": [
      "              precision    recall  f1-score   support\n",
      "\n",
      "           0       0.89      0.90      0.90       256\n",
      "           1       0.91      0.90      0.90       283\n",
      "\n",
      "    accuracy                           0.90       539\n",
      "   macro avg       0.90      0.90      0.90       539\n",
      "weighted avg       0.90      0.90      0.90       539\n",
      "\n"
     ]
    }
   ],
   "source": [
    "# We can see the f1-score which is nearer to 1 is good\n",
    "print(classification_report(y_train, train_fpredict))"
   ]
  },
  {
   "cell_type": "markdown",
   "id": "0f251dfd",
   "metadata": {},
   "source": [
    "**AUC-ROC Curve:** The Area Under the ROC curve (AUC) is an aggregated metric that evaluates how well a logistic regression model classifies positive and negative outcomes at all possible cutoffs.\n",
    "\n",
    "The higher the AUC, the better the performance of the model at distinguishing between the positive and negative classes."
   ]
  },
  {
   "cell_type": "code",
   "execution_count": 36,
   "id": "61721e42",
   "metadata": {},
   "outputs": [
    {
     "data": {
      "image/png": "[encoded data removed]",
      "text/plain": [
       "<Figure size 432x288 with 1 Axes>"
      ]
     },
     "metadata": {
      "needs_background": "light"
     },
     "output_type": "display_data"
    }
   ],
   "source": [
    "#generating AUC-ROC curve\n",
    "logit_roc_auc = roc_auc_score(y_test,test_fpredict)\n",
    "fpr, tpr, thresholds = roc_curve(y_test, selector.predict_proba(x_test)[:,1])\n",
    "plt.figure()\n",
    "plt.plot(fpr, tpr, label=\"Logistic regression (area = %0.2f)\" % logit_roc_auc)\n",
    "plt.plot([0,1],[0,1],'r--')\n",
    "plt.xlim([0.0, 1.0])\n",
    "plt.ylim([0.0,1.05])\n",
    "plt.title('Airplane passanger satisfaction curve')\n",
    "plt.legend(loc=\"lower right\")\n",
    "plt.savefig('Log_ROC')\n",
    "plt.show()"
   ]
  },
  {
   "cell_type": "markdown",
   "id": "0fb1a461",
   "metadata": {},
   "source": [
    "The above graph shows the model evaluation is well predictive as it covers area of 0.89 which is nearer to 1."
   ]
  },
  {
   "cell_type": "code",
   "execution_count": 37,
   "id": "dfcbc191",
   "metadata": {},
   "outputs": [
    {
     "data": {
      "text/plain": [
       "[<matplotlib.lines.Line2D at 0x1c68edf81f0>,\n",
       " <matplotlib.lines.Line2D at 0x1c68edf82e0>,\n",
       " <matplotlib.lines.Line2D at 0x1c68edf8400>,\n",
       " <matplotlib.lines.Line2D at 0x1c68edf8520>,\n",
       " <matplotlib.lines.Line2D at 0x1c68edf8640>,\n",
       " <matplotlib.lines.Line2D at 0x1c68edf8760>,\n",
       " <matplotlib.lines.Line2D at 0x1c68edf8880>,\n",
       " <matplotlib.lines.Line2D at 0x1c68edf89a0>,\n",
       " <matplotlib.lines.Line2D at 0x1c68edf8ac0>,\n",
       " <matplotlib.lines.Line2D at 0x1c68edf8be0>,\n",
       " <matplotlib.lines.Line2D at 0x1c68edf8d00>,\n",
       " <matplotlib.lines.Line2D at 0x1c68edf82b0>,\n",
       " <matplotlib.lines.Line2D at 0x1c68edf8f10>,\n",
       " <matplotlib.lines.Line2D at 0x1c68ee00070>,\n",
       " <matplotlib.lines.Line2D at 0x1c68ee00190>,\n",
       " <matplotlib.lines.Line2D at 0x1c68ee002b0>,\n",
       " <matplotlib.lines.Line2D at 0x1c68ee003d0>,\n",
       " <matplotlib.lines.Line2D at 0x1c68ee004f0>,\n",
       " <matplotlib.lines.Line2D at 0x1c68ee00610>,\n",
       " <matplotlib.lines.Line2D at 0x1c68ee00730>,\n",
       " <matplotlib.lines.Line2D at 0x1c68ee00850>,\n",
       " <matplotlib.lines.Line2D at 0x1c68ee00970>,\n",
       " <matplotlib.lines.Line2D at 0x1c68ee00a90>]"
      ]
     },
     "execution_count": 37,
     "metadata": {},
     "output_type": "execute_result"
    },
    {
     "data": {
      "image/png": "[encoded data removed]",
      "text/plain": [
       "<Figure size 432x288 with 1 Axes>"
      ]
     },
     "metadata": {
      "needs_background": "light"
     },
     "output_type": "display_data"
    }
   ],
   "source": [
    "plt.plot(data[:50])"
   ]
  },
  {
   "cell_type": "markdown",
   "id": "592ae5f8",
   "metadata": {},
   "source": [
    "**Classification Algorithms:** In machine learning are that automatically orders or categorizes data into one or more of a set of “classes”."
   ]
  },
  {
   "cell_type": "markdown",
   "id": "6a3cd1e7",
   "metadata": {},
   "source": [
    "### K-Nearest Neighbour model:\n",
    "\n",
    "In pattern recognition, the k-Nearest Neighbors algorithm (or k-NN for short) is a non-parametric method used for classification and regression. A sample is classified by a majority vote of its neighbors, with the sample being assigned to the class most common among its k nearest neighbors (k is a positive integer, typically small). If k = 1, then the object is simply assigned to the class of that single nearest neighbor."
   ]
  },
  {
   "cell_type": "code",
   "execution_count": 38,
   "id": "a66d916b",
   "metadata": {},
   "outputs": [
    {
     "name": "stdout",
     "output_type": "stream",
     "text": [
      "Testing accuracy is:  0.6222222222222222\n"
     ]
    }
   ],
   "source": [
    "knn = KNeighborsClassifier(n_neighbors=10)\n",
    "knn.fit(x_train, y_train)\n",
    "\n",
    "# Use the model to predict testing data\n",
    "y_pred = knn.predict(x_test)\n",
    "\n",
    "accuracy = accuracy_score(y_pred, y_test)\n",
    "acc_knn = accuracy\n",
    "\n",
    "print('Testing accuracy is: ', accuracy)"
   ]
  },
  {
   "cell_type": "code",
   "execution_count": 39,
   "id": "0928fca9",
   "metadata": {},
   "outputs": [
    {
     "data": {
      "image/png": "[encoded data removed]",
      "text/plain": [
       "<Figure size 432x288 with 1 Axes>"
      ]
     },
     "metadata": {
      "needs_background": "light"
     },
     "output_type": "display_data"
    }
   ],
   "source": [
    "# Plot the accurcy trend w.r.t. K\n",
    "training_error = list()\n",
    "testing_error = list()\n",
    "\n",
    "for i in range(1,15):\n",
    "    knn = KNeighborsClassifier(n_neighbors=i)\n",
    "    knn.fit(x_train, y_train)\n",
    "    training_error.append(1.0-accuracy_score(knn.predict(x_train), y_train))\n",
    "    testing_error.append(1.0-accuracy_score(knn.predict(x_test), y_test))\n",
    "    \n",
    "#plot the relationship\n",
    "plt.plot(range(1,15), training_error, marker = 'x') #Training error is shown in blue color line\n",
    "plt.plot(range(1,15), testing_error, marker = 'o') #Testing error is shown in orange color line\n",
    "plt.xlabel('K')\n",
    "plt.ylabel('Error')\n",
    "plt.title('Training-testing error plot')\n",
    "#plt.legand(loc='best')\n",
    "plt.show()\n"
   ]
  },
  {
   "cell_type": "markdown",
   "id": "52144fd3",
   "metadata": {},
   "source": [
    "#### Automatic model hyperparameter (algorithm parameter) tuning: \n",
    "*(parameter analysis part from the task covered- automatically tunes n_neighbours value for better performance)*\n",
    "\n",
    "Hyperparameter tuning consists of finding a set of optimal hyperparameter values for a learning algorithm while applying this optimized algorithm to any data set. That combination of hyperparameters maximizes the model's performance, minimizing a predefined loss function to produce better results with fewer errors"
   ]
  },
  {
   "cell_type": "code",
   "execution_count": 40,
   "id": "593694c6",
   "metadata": {},
   "outputs": [
    {
     "name": "stdout",
     "output_type": "stream",
     "text": [
      "Best K value:  16\n",
      "The accuracy:  0.6677847658979734\n"
     ]
    }
   ],
   "source": [
    "# Define search space for parameters\n",
    "parameter_grid = {'n_neighbors': range(1, 41)}\n",
    "\n",
    "# Create the machine learning model\n",
    "knn_clf = KNeighborsClassifier()\n",
    "#knn_clf\n",
    "clf = GridSearchCV(knn_clf, parameter_grid, scoring='accuracy', cv=10)\n",
    "#clff\n",
    "clf.fit(x_train, y_train)\n",
    "#acc_knn= clf.score_\n",
    "\n",
    "# Identify the best parameter(s)\n",
    "print('Best K value: ', clf.best_params_['n_neighbors'])\n",
    "print('The accuracy: ', clf.best_score_)"
   ]
  },
  {
   "cell_type": "markdown",
   "id": "144fea8b",
   "metadata": {},
   "source": [
    "### Naive Bayes Classifiers"
   ]
  },
  {
   "cell_type": "markdown",
   "id": "feb9152c",
   "metadata": {},
   "source": [
    "In machine learning, **Naive Bayes classifiers** are a family of simple probabilistic classifiers based on applying Bayes' theorem with strong (naive) independence assumptions between the features. Naive Bayes classifiers are highly scalable, requiring a number of parameters linear in the number of variables (features) in a learning problem. Reference Wikipedia.\n",
    "\n",
    "The model generated confidence score is the lowest among the models evaluated so far."
   ]
  },
  {
   "cell_type": "code",
   "execution_count": 41,
   "id": "830974a6",
   "metadata": {},
   "outputs": [
    {
     "data": {
      "text/plain": [
       "88.87"
      ]
     },
     "execution_count": 41,
     "metadata": {},
     "output_type": "execute_result"
    }
   ],
   "source": [
    "# Gaussian Naive Bayes\n",
    "gaussian = GaussianNB()\n",
    "gaussian.fit(x_train, y_train)\n",
    "Y_pred = gaussian.predict(x_test)\n",
    "acc_gaussian = accuracy_score(Y_pred, y_test)\n",
    "\n",
    "round(gaussian.score(x_train, y_train) * 100, 2)"
   ]
  },
  {
   "cell_type": "code",
   "execution_count": 42,
   "id": "e344e733",
   "metadata": {},
   "outputs": [
    {
     "data": {
      "text/plain": [
       "[Text(0.5, 1.0, 'Plot for Gaussian naive-bayes classifiers')]"
      ]
     },
     "execution_count": 42,
     "metadata": {},
     "output_type": "execute_result"
    },
    {
     "data": {
      "image/png": "[encoded data removed]",
      "text/plain": [
       "<Figure size 432x288 with 1 Axes>"
      ]
     },
     "metadata": {
      "needs_background": "light"
     },
     "output_type": "display_data"
    }
   ],
   "source": [
    "sns.regplot(Y_pred,y_test).set(title='Plot for Gaussian naive-bayes classifiers')"
   ]
  },
  {
   "cell_type": "markdown",
   "id": "0bf276fe",
   "metadata": {},
   "source": [
    "### Support Vector Classifier\n",
    "\n",
    "SVC works by mapping data points to a high-dimensional space and then finding the optimal hyperplane that divides the data into two classes"
   ]
  },
  {
   "cell_type": "code",
   "execution_count": 43,
   "id": "fef8727e",
   "metadata": {},
   "outputs": [
    {
     "data": {
      "text/plain": [
       "SVC()"
      ]
     },
     "execution_count": 43,
     "metadata": {},
     "output_type": "execute_result"
    }
   ],
   "source": [
    "svc_model = SVC()\n",
    "svc_model.fit(x_train,y_train)"
   ]
  },
  {
   "cell_type": "code",
   "execution_count": 44,
   "id": "a715f85e",
   "metadata": {},
   "outputs": [
    {
     "data": {
      "text/plain": [
       "0.6074074074074074"
      ]
     },
     "execution_count": 44,
     "metadata": {},
     "output_type": "execute_result"
    }
   ],
   "source": [
    "acc_svc = accuracy_score(svc_model.predict(x_test),y_test)\n",
    "acc_svc"
   ]
  },
  {
   "cell_type": "code",
   "execution_count": 45,
   "id": "78a2e7f4",
   "metadata": {},
   "outputs": [
    {
     "data": {
      "text/plain": [
       "[Text(0.5, 1.0, 'svc plot')]"
      ]
     },
     "execution_count": 45,
     "metadata": {},
     "output_type": "execute_result"
    },
    {
     "data": {
      "image/png": "[encoded data removed]",
      "text/plain": [
       "<Figure size 432x288 with 1 Axes>"
      ]
     },
     "metadata": {
      "needs_background": "light"
     },
     "output_type": "display_data"
    }
   ],
   "source": [
    "sns.regplot(svc_model.predict(x_test),y_test).set(title='svc plot')"
   ]
  },
  {
   "cell_type": "markdown",
   "id": "51bf7f58",
   "metadata": {},
   "source": [
    "## Final insights"
   ]
  },
  {
   "cell_type": "markdown",
   "id": "8c090a37",
   "metadata": {},
   "source": [
    "We can now rank our evaluation of all the models to choose the best one for our problem."
   ]
  },
  {
   "cell_type": "code",
   "execution_count": 46,
   "id": "4471b431",
   "metadata": {},
   "outputs": [
    {
     "data": {
      "text/html": [
       "<div>\n",
       "<style scoped>\n",
       "    .dataframe tbody tr th:only-of-type {\n",
       "        vertical-align: middle;\n",
       "    }\n",
       "\n",
       "    .dataframe tbody tr th {\n",
       "        vertical-align: top;\n",
       "    }\n",
       "\n",
       "    .dataframe thead th {\n",
       "        text-align: right;\n",
       "    }\n",
       "</style>\n",
       "<table border=\"1\" class=\"dataframe\">\n",
       "  <thead>\n",
       "    <tr style=\"text-align: right;\">\n",
       "      <th></th>\n",
       "      <th>Model</th>\n",
       "      <th>Accuracy Score</th>\n",
       "    </tr>\n",
       "  </thead>\n",
       "  <tbody>\n",
       "    <tr>\n",
       "      <th>0</th>\n",
       "      <td>Logistic Regression</td>\n",
       "      <td>0.903704</td>\n",
       "    </tr>\n",
       "    <tr>\n",
       "      <th>1</th>\n",
       "      <td>Naive Bayes</td>\n",
       "      <td>0.903704</td>\n",
       "    </tr>\n",
       "    <tr>\n",
       "      <th>2</th>\n",
       "      <td>KNN</td>\n",
       "      <td>0.622222</td>\n",
       "    </tr>\n",
       "    <tr>\n",
       "      <th>3</th>\n",
       "      <td>SVC</td>\n",
       "      <td>0.607407</td>\n",
       "    </tr>\n",
       "  </tbody>\n",
       "</table>\n",
       "</div>"
      ],
      "text/plain": [
       "                 Model  Accuracy Score\n",
       "0  Logistic Regression        0.903704\n",
       "1          Naive Bayes        0.903704\n",
       "2                  KNN        0.622222\n",
       "3                  SVC        0.607407"
      ]
     },
     "execution_count": 46,
     "metadata": {},
     "output_type": "execute_result"
    }
   ],
   "source": [
    "models = pd.DataFrame({\n",
    "    'Model': ['Logistic Regression','Naive Bayes','KNN','SVC'],\n",
    "    'Accuracy Score': [acc_log,acc_gaussian,acc_knn,acc_svc]})\n",
    "models.sort_values(by='Accuracy Score', ascending=False)"
   ]
  },
  {
   "cell_type": "markdown",
   "id": "2cb9fbb8",
   "metadata": {},
   "source": [
    "In above comparison, Logistic regression and Naive Bayes algorithms are almost similar in this evaluations then other models, showing the results of passanger satisfaction on their full flight journey as shown in graph before in data exploration part."
   ]
  },
  {
   "cell_type": "code",
   "execution_count": null,
   "id": "c4b17292",
   "metadata": {},
   "outputs": [],
   "source": []
  }
 ],
 "metadata": {
  "kernelspec": {
   "display_name": "Python 3 (ipykernel)",
   "language": "python",
   "name": "python3"
  },
  "language_info": {
   "codemirror_mode": {
    "name": "ipython",
    "version": 3
   },
   "file_extension": ".py",
   "mimetype": "text/x-python",
   "name": "python",
   "nbconvert_exporter": "python",
   "pygments_lexer": "ipython3",
   "version": "3.9.12"
  }
 },
 "nbformat": 4,
 "nbformat_minor": 5
}
